{
  "nbformat": 4,
  "nbformat_minor": 0,
  "metadata": {
    "kernelspec": {
      "display_name": "Python 3",
      "language": "python",
      "name": "python3"
    },
    "language_info": {
      "codemirror_mode": {
        "name": "ipython",
        "version": 3
      },
      "file_extension": ".py",
      "mimetype": "text/x-python",
      "name": "python",
      "nbconvert_exporter": "python",
      "pygments_lexer": "ipython3",
      "version": "3.8.5"
    },
    "colab": {
      "name": "IPL Data Analysis(2008-2019).ipynb",
      "provenance": [],
      "collapsed_sections": [
        "Z_YhHly7aGJZ",
        "Vg6vdG0TaGJa",
        "uocciY4haGJi",
        "fyq1lsvuaGJj",
        "2SW7hTyPj7Ur"
      ]
    }
  },
  "cells": [
    {
      "cell_type": "markdown",
      "metadata": {
        "id": "IuhKAxCGaGJA"
      },
      "source": [
        "# IPL Data Analysis(2008-2019)\n",
        "Indian Premier League (IPL) is a Twenty20 cricket format league in India. It is usually played in April and May every year. The league was founded by Board of Control for Cricket India (BCCI) in 2008. There have been twelve seasons of the IPL tournament. The current IPL title holders are the Mumbai Indians, who won the 2019 season.\n",
        "\n",
        "The dataset has been downloaded from Kaggle Dataset. The dataset contains two csv files but only one csv file i.e matches.csv has been used in this project for the analysis. The libraries for data analysis and visualization used in this project are Numpy, Pandas, Matplotlib and Seaborn. These libraries are covered in the course by Jovian.ml named as Data Analysis with Python: Zero to Pandas."
      ]
    },
    {
      "cell_type": "markdown",
      "metadata": {
        "id": "z1OdbCHAaGJN"
      },
      "source": [
        "## Data Preparation and Cleaning\n",
        "\n",
        "In this step we will perform the following process:\n",
        "\n",
        "Install and import the upgraded version of all libraries to be used in the project\n",
        "* Analyse the dataset available with us\n",
        "* Find the missing data, if possible\n",
        "* Reason of missing data\n",
        "\n"
      ]
    },
    {
      "cell_type": "code",
      "metadata": {
        "id": "KnY3jGRqaGJO"
      },
      "source": [
        "#Installing the upgraded version of all libraries\r\n",
        "!pip install numpy pandas matplotlib seaborn --upgrade --quiet"
      ],
      "execution_count": 1,
      "outputs": []
    },
    {
      "cell_type": "code",
      "metadata": {
        "id": "jjnXC5ynaGJO"
      },
      "source": [
        "#Importing the libraries\r\n",
        "import numpy as np\r\n",
        "import pandas as pd\r\n",
        "import matplotlib\r\n",
        "import matplotlib.pyplot as plt\r\n",
        "import seaborn as sns"
      ],
      "execution_count": 2,
      "outputs": []
    },
    {
      "cell_type": "code",
      "metadata": {
        "id": "tguYPt1FaGJO"
      },
      "source": [
        "#Global Settings\r\n",
        "matplotlib.rcParams['font.size'] = 14\r\n",
        "matplotlib.rcParams['figure.figsize'] = (15, 7.5)\r\n",
        "matplotlib.rcParams['figure.facecolor'] = '#00000000'\r\n",
        "sns.set_style(\"darkgrid\")"
      ],
      "execution_count": 3,
      "outputs": []
    },
    {
      "cell_type": "code",
      "metadata": {
        "id": "IVqpErtGaGJP"
      },
      "source": [
        "#Reading the matches.csv into matches_df dataframe\r\n",
        "df = pd.read_csv('matches.csv')"
      ],
      "execution_count": 4,
      "outputs": []
    },
    {
      "cell_type": "code",
      "metadata": {
        "colab": {
          "base_uri": "https://localhost:8080/",
          "height": 791
        },
        "id": "9T_CzeY2aGJP",
        "outputId": "7f7debff-7b15-4db7-a82d-6e6f37d490d3"
      },
      "source": [
        "df"
      ],
      "execution_count": 5,
      "outputs": [
        {
          "output_type": "execute_result",
          "data": {
            "text/html": [
              "<div>\n",
              "<style scoped>\n",
              "    .dataframe tbody tr th:only-of-type {\n",
              "        vertical-align: middle;\n",
              "    }\n",
              "\n",
              "    .dataframe tbody tr th {\n",
              "        vertical-align: top;\n",
              "    }\n",
              "\n",
              "    .dataframe thead th {\n",
              "        text-align: right;\n",
              "    }\n",
              "</style>\n",
              "<table border=\"1\" class=\"dataframe\">\n",
              "  <thead>\n",
              "    <tr style=\"text-align: right;\">\n",
              "      <th></th>\n",
              "      <th>id</th>\n",
              "      <th>season</th>\n",
              "      <th>city</th>\n",
              "      <th>date</th>\n",
              "      <th>team1</th>\n",
              "      <th>team2</th>\n",
              "      <th>toss_winner</th>\n",
              "      <th>toss_decision</th>\n",
              "      <th>result</th>\n",
              "      <th>dl_applied</th>\n",
              "      <th>winner</th>\n",
              "      <th>win_by_runs</th>\n",
              "      <th>win_by_wickets</th>\n",
              "      <th>player_of_match</th>\n",
              "      <th>venue</th>\n",
              "      <th>umpire1</th>\n",
              "      <th>umpire2</th>\n",
              "      <th>umpire3</th>\n",
              "    </tr>\n",
              "  </thead>\n",
              "  <tbody>\n",
              "    <tr>\n",
              "      <th>0</th>\n",
              "      <td>1</td>\n",
              "      <td>2017</td>\n",
              "      <td>Hyderabad</td>\n",
              "      <td>2017-04-05</td>\n",
              "      <td>Sunrisers Hyderabad</td>\n",
              "      <td>Royal Challengers Bangalore</td>\n",
              "      <td>Royal Challengers Bangalore</td>\n",
              "      <td>field</td>\n",
              "      <td>normal</td>\n",
              "      <td>0</td>\n",
              "      <td>Sunrisers Hyderabad</td>\n",
              "      <td>35</td>\n",
              "      <td>0</td>\n",
              "      <td>Yuvraj Singh</td>\n",
              "      <td>Rajiv Gandhi International Stadium, Uppal</td>\n",
              "      <td>AY Dandekar</td>\n",
              "      <td>NJ Llong</td>\n",
              "      <td>NaN</td>\n",
              "    </tr>\n",
              "    <tr>\n",
              "      <th>1</th>\n",
              "      <td>2</td>\n",
              "      <td>2017</td>\n",
              "      <td>Pune</td>\n",
              "      <td>2017-04-06</td>\n",
              "      <td>Mumbai Indians</td>\n",
              "      <td>Rising Pune Supergiant</td>\n",
              "      <td>Rising Pune Supergiant</td>\n",
              "      <td>field</td>\n",
              "      <td>normal</td>\n",
              "      <td>0</td>\n",
              "      <td>Rising Pune Supergiant</td>\n",
              "      <td>0</td>\n",
              "      <td>7</td>\n",
              "      <td>SPD Smith</td>\n",
              "      <td>Maharashtra Cricket Association Stadium</td>\n",
              "      <td>A Nand Kishore</td>\n",
              "      <td>S Ravi</td>\n",
              "      <td>NaN</td>\n",
              "    </tr>\n",
              "    <tr>\n",
              "      <th>2</th>\n",
              "      <td>3</td>\n",
              "      <td>2017</td>\n",
              "      <td>Rajkot</td>\n",
              "      <td>2017-04-07</td>\n",
              "      <td>Gujarat Lions</td>\n",
              "      <td>Kolkata Knight Riders</td>\n",
              "      <td>Kolkata Knight Riders</td>\n",
              "      <td>field</td>\n",
              "      <td>normal</td>\n",
              "      <td>0</td>\n",
              "      <td>Kolkata Knight Riders</td>\n",
              "      <td>0</td>\n",
              "      <td>10</td>\n",
              "      <td>CA Lynn</td>\n",
              "      <td>Saurashtra Cricket Association Stadium</td>\n",
              "      <td>Nitin Menon</td>\n",
              "      <td>CK Nandan</td>\n",
              "      <td>NaN</td>\n",
              "    </tr>\n",
              "    <tr>\n",
              "      <th>3</th>\n",
              "      <td>4</td>\n",
              "      <td>2017</td>\n",
              "      <td>Indore</td>\n",
              "      <td>2017-04-08</td>\n",
              "      <td>Rising Pune Supergiant</td>\n",
              "      <td>Kings XI Punjab</td>\n",
              "      <td>Kings XI Punjab</td>\n",
              "      <td>field</td>\n",
              "      <td>normal</td>\n",
              "      <td>0</td>\n",
              "      <td>Kings XI Punjab</td>\n",
              "      <td>0</td>\n",
              "      <td>6</td>\n",
              "      <td>GJ Maxwell</td>\n",
              "      <td>Holkar Cricket Stadium</td>\n",
              "      <td>AK Chaudhary</td>\n",
              "      <td>C Shamshuddin</td>\n",
              "      <td>NaN</td>\n",
              "    </tr>\n",
              "    <tr>\n",
              "      <th>4</th>\n",
              "      <td>5</td>\n",
              "      <td>2017</td>\n",
              "      <td>Bangalore</td>\n",
              "      <td>2017-04-08</td>\n",
              "      <td>Royal Challengers Bangalore</td>\n",
              "      <td>Delhi Daredevils</td>\n",
              "      <td>Royal Challengers Bangalore</td>\n",
              "      <td>bat</td>\n",
              "      <td>normal</td>\n",
              "      <td>0</td>\n",
              "      <td>Royal Challengers Bangalore</td>\n",
              "      <td>15</td>\n",
              "      <td>0</td>\n",
              "      <td>KM Jadhav</td>\n",
              "      <td>M Chinnaswamy Stadium</td>\n",
              "      <td>NaN</td>\n",
              "      <td>NaN</td>\n",
              "      <td>NaN</td>\n",
              "    </tr>\n",
              "    <tr>\n",
              "      <th>...</th>\n",
              "      <td>...</td>\n",
              "      <td>...</td>\n",
              "      <td>...</td>\n",
              "      <td>...</td>\n",
              "      <td>...</td>\n",
              "      <td>...</td>\n",
              "      <td>...</td>\n",
              "      <td>...</td>\n",
              "      <td>...</td>\n",
              "      <td>...</td>\n",
              "      <td>...</td>\n",
              "      <td>...</td>\n",
              "      <td>...</td>\n",
              "      <td>...</td>\n",
              "      <td>...</td>\n",
              "      <td>...</td>\n",
              "      <td>...</td>\n",
              "      <td>...</td>\n",
              "    </tr>\n",
              "    <tr>\n",
              "      <th>751</th>\n",
              "      <td>11347</td>\n",
              "      <td>2019</td>\n",
              "      <td>Mumbai</td>\n",
              "      <td>05/05/19</td>\n",
              "      <td>Kolkata Knight Riders</td>\n",
              "      <td>Mumbai Indians</td>\n",
              "      <td>Mumbai Indians</td>\n",
              "      <td>field</td>\n",
              "      <td>normal</td>\n",
              "      <td>0</td>\n",
              "      <td>Mumbai Indians</td>\n",
              "      <td>0</td>\n",
              "      <td>9</td>\n",
              "      <td>HH Pandya</td>\n",
              "      <td>Wankhede Stadium</td>\n",
              "      <td>Nanda Kishore</td>\n",
              "      <td>O Nandan</td>\n",
              "      <td>S Ravi</td>\n",
              "    </tr>\n",
              "    <tr>\n",
              "      <th>752</th>\n",
              "      <td>11412</td>\n",
              "      <td>2019</td>\n",
              "      <td>Chennai</td>\n",
              "      <td>07/05/19</td>\n",
              "      <td>Chennai Super Kings</td>\n",
              "      <td>Mumbai Indians</td>\n",
              "      <td>Chennai Super Kings</td>\n",
              "      <td>bat</td>\n",
              "      <td>normal</td>\n",
              "      <td>0</td>\n",
              "      <td>Mumbai Indians</td>\n",
              "      <td>0</td>\n",
              "      <td>6</td>\n",
              "      <td>AS Yadav</td>\n",
              "      <td>M. A. Chidambaram Stadium</td>\n",
              "      <td>Nigel Llong</td>\n",
              "      <td>Nitin Menon</td>\n",
              "      <td>Ian Gould</td>\n",
              "    </tr>\n",
              "    <tr>\n",
              "      <th>753</th>\n",
              "      <td>11413</td>\n",
              "      <td>2019</td>\n",
              "      <td>Visakhapatnam</td>\n",
              "      <td>08/05/19</td>\n",
              "      <td>Sunrisers Hyderabad</td>\n",
              "      <td>Delhi Capitals</td>\n",
              "      <td>Delhi Capitals</td>\n",
              "      <td>field</td>\n",
              "      <td>normal</td>\n",
              "      <td>0</td>\n",
              "      <td>Delhi Capitals</td>\n",
              "      <td>0</td>\n",
              "      <td>2</td>\n",
              "      <td>RR Pant</td>\n",
              "      <td>ACA-VDCA Stadium</td>\n",
              "      <td>NaN</td>\n",
              "      <td>NaN</td>\n",
              "      <td>NaN</td>\n",
              "    </tr>\n",
              "    <tr>\n",
              "      <th>754</th>\n",
              "      <td>11414</td>\n",
              "      <td>2019</td>\n",
              "      <td>Visakhapatnam</td>\n",
              "      <td>10/05/19</td>\n",
              "      <td>Delhi Capitals</td>\n",
              "      <td>Chennai Super Kings</td>\n",
              "      <td>Chennai Super Kings</td>\n",
              "      <td>field</td>\n",
              "      <td>normal</td>\n",
              "      <td>0</td>\n",
              "      <td>Chennai Super Kings</td>\n",
              "      <td>0</td>\n",
              "      <td>6</td>\n",
              "      <td>F du Plessis</td>\n",
              "      <td>ACA-VDCA Stadium</td>\n",
              "      <td>Sundaram Ravi</td>\n",
              "      <td>Bruce Oxenford</td>\n",
              "      <td>Chettithody Shamshuddin</td>\n",
              "    </tr>\n",
              "    <tr>\n",
              "      <th>755</th>\n",
              "      <td>11415</td>\n",
              "      <td>2019</td>\n",
              "      <td>Hyderabad</td>\n",
              "      <td>12/05/19</td>\n",
              "      <td>Mumbai Indians</td>\n",
              "      <td>Chennai Super Kings</td>\n",
              "      <td>Mumbai Indians</td>\n",
              "      <td>bat</td>\n",
              "      <td>normal</td>\n",
              "      <td>0</td>\n",
              "      <td>Mumbai Indians</td>\n",
              "      <td>1</td>\n",
              "      <td>0</td>\n",
              "      <td>JJ Bumrah</td>\n",
              "      <td>Rajiv Gandhi Intl. Cricket Stadium</td>\n",
              "      <td>Nitin Menon</td>\n",
              "      <td>Ian Gould</td>\n",
              "      <td>Nigel Llong</td>\n",
              "    </tr>\n",
              "  </tbody>\n",
              "</table>\n",
              "<p>756 rows × 18 columns</p>\n",
              "</div>"
            ],
            "text/plain": [
              "        id  season  ...         umpire2                  umpire3\n",
              "0        1    2017  ...        NJ Llong                      NaN\n",
              "1        2    2017  ...          S Ravi                      NaN\n",
              "2        3    2017  ...       CK Nandan                      NaN\n",
              "3        4    2017  ...   C Shamshuddin                      NaN\n",
              "4        5    2017  ...             NaN                      NaN\n",
              "..     ...     ...  ...             ...                      ...\n",
              "751  11347    2019  ...        O Nandan                   S Ravi\n",
              "752  11412    2019  ...     Nitin Menon                Ian Gould\n",
              "753  11413    2019  ...             NaN                      NaN\n",
              "754  11414    2019  ...  Bruce Oxenford  Chettithody Shamshuddin\n",
              "755  11415    2019  ...       Ian Gould              Nigel Llong\n",
              "\n",
              "[756 rows x 18 columns]"
            ]
          },
          "metadata": {
            "tags": []
          },
          "execution_count": 5
        }
      ]
    },
    {
      "cell_type": "code",
      "metadata": {
        "colab": {
          "base_uri": "https://localhost:8080/"
        },
        "id": "jtvWwu2JaGJP",
        "outputId": "c68e6c7e-3dad-40c6-a17c-6611031e011f"
      },
      "source": [
        "df.describe"
      ],
      "execution_count": 6,
      "outputs": [
        {
          "output_type": "execute_result",
          "data": {
            "text/plain": [
              "<bound method NDFrame.describe of         id  season  ...         umpire2                  umpire3\n",
              "0        1    2017  ...        NJ Llong                      NaN\n",
              "1        2    2017  ...          S Ravi                      NaN\n",
              "2        3    2017  ...       CK Nandan                      NaN\n",
              "3        4    2017  ...   C Shamshuddin                      NaN\n",
              "4        5    2017  ...             NaN                      NaN\n",
              "..     ...     ...  ...             ...                      ...\n",
              "751  11347    2019  ...        O Nandan                   S Ravi\n",
              "752  11412    2019  ...     Nitin Menon                Ian Gould\n",
              "753  11413    2019  ...             NaN                      NaN\n",
              "754  11414    2019  ...  Bruce Oxenford  Chettithody Shamshuddin\n",
              "755  11415    2019  ...       Ian Gould              Nigel Llong\n",
              "\n",
              "[756 rows x 18 columns]>"
            ]
          },
          "metadata": {
            "tags": []
          },
          "execution_count": 6
        }
      ]
    },
    {
      "cell_type": "code",
      "metadata": {
        "colab": {
          "base_uri": "https://localhost:8080/"
        },
        "id": "gObuve-caGJQ",
        "outputId": "9196697c-a4db-44f0-cfc3-efb24a3b4c65"
      },
      "source": [
        "df.info()"
      ],
      "execution_count": 7,
      "outputs": [
        {
          "output_type": "stream",
          "text": [
            "<class 'pandas.core.frame.DataFrame'>\n",
            "RangeIndex: 756 entries, 0 to 755\n",
            "Data columns (total 18 columns):\n",
            " #   Column           Non-Null Count  Dtype \n",
            "---  ------           --------------  ----- \n",
            " 0   id               756 non-null    int64 \n",
            " 1   season           756 non-null    int64 \n",
            " 2   city             749 non-null    object\n",
            " 3   date             756 non-null    object\n",
            " 4   team1            756 non-null    object\n",
            " 5   team2            756 non-null    object\n",
            " 6   toss_winner      756 non-null    object\n",
            " 7   toss_decision    756 non-null    object\n",
            " 8   result           756 non-null    object\n",
            " 9   dl_applied       756 non-null    int64 \n",
            " 10  winner           752 non-null    object\n",
            " 11  win_by_runs      756 non-null    int64 \n",
            " 12  win_by_wickets   756 non-null    int64 \n",
            " 13  player_of_match  752 non-null    object\n",
            " 14  venue            756 non-null    object\n",
            " 15  umpire1          754 non-null    object\n",
            " 16  umpire2          754 non-null    object\n",
            " 17  umpire3          119 non-null    object\n",
            "dtypes: int64(5), object(13)\n",
            "memory usage: 106.4+ KB\n"
          ],
          "name": "stdout"
        }
      ]
    },
    {
      "cell_type": "code",
      "metadata": {
        "id": "4ed_J88Ab52J"
      },
      "source": [
        "#Dropping the column of umpires as we will not be using it for any data analysis\r\n",
        "df.drop(columns=['umpire1','umpire2','umpire3'], inplace=True)"
      ],
      "execution_count": 8,
      "outputs": []
    },
    {
      "cell_type": "code",
      "metadata": {
        "colab": {
          "base_uri": "https://localhost:8080/"
        },
        "id": "k66YaOSvb50G",
        "outputId": "4bd0818d-2b45-4ee3-e6a0-718b89a8f804"
      },
      "source": [
        "df.shape"
      ],
      "execution_count": 9,
      "outputs": [
        {
          "output_type": "execute_result",
          "data": {
            "text/plain": [
              "(756, 15)"
            ]
          },
          "metadata": {
            "tags": []
          },
          "execution_count": 9
        }
      ]
    },
    {
      "cell_type": "code",
      "metadata": {
        "colab": {
          "base_uri": "https://localhost:8080/"
        },
        "id": "URE7bPfDb5yF",
        "outputId": "7285ee84-7bae-4059-ef12-0b6b3adb5586"
      },
      "source": [
        "df.columns"
      ],
      "execution_count": 10,
      "outputs": [
        {
          "output_type": "execute_result",
          "data": {
            "text/plain": [
              "Index(['id', 'season', 'city', 'date', 'team1', 'team2', 'toss_winner',\n",
              "       'toss_decision', 'result', 'dl_applied', 'winner', 'win_by_runs',\n",
              "       'win_by_wickets', 'player_of_match', 'venue'],\n",
              "      dtype='object')"
            ]
          },
          "metadata": {
            "tags": []
          },
          "execution_count": 10
        }
      ]
    },
    {
      "cell_type": "code",
      "metadata": {
        "colab": {
          "base_uri": "https://localhost:8080/"
        },
        "id": "0TabEf8bb5vP",
        "outputId": "20a390cb-d25d-474e-c8ef-09ea19588f44"
      },
      "source": [
        "df.team1.unique()"
      ],
      "execution_count": 11,
      "outputs": [
        {
          "output_type": "execute_result",
          "data": {
            "text/plain": [
              "array(['Sunrisers Hyderabad', 'Mumbai Indians', 'Gujarat Lions',\n",
              "       'Rising Pune Supergiant', 'Royal Challengers Bangalore',\n",
              "       'Kolkata Knight Riders', 'Delhi Daredevils', 'Kings XI Punjab',\n",
              "       'Chennai Super Kings', 'Rajasthan Royals', 'Deccan Chargers',\n",
              "       'Kochi Tuskers Kerala', 'Pune Warriors', 'Rising Pune Supergiants',\n",
              "       'Delhi Capitals'], dtype=object)"
            ]
          },
          "metadata": {
            "tags": []
          },
          "execution_count": 11
        }
      ]
    },
    {
      "cell_type": "markdown",
      "metadata": {
        "id": "Hngq5VWocYqd"
      },
      "source": [
        "##Cleaning in Team Name:\r\n",
        "1. In the above data, you can see there have been multiple name for the same team i.e Rising Pune Supergiants and Rising Pune Supergiant. It is due to ommission of 's'. Thus data cleaning is required for this error. \r\n",
        "2. In the above data, you can see that there are same team with two difeerent name Delhi Daredevils and Delhi Capitals. Earlier the team's name is Delhi Daredevils but its new name is Delhi Capital.Thus data cleaning is required for this error.\r\n",
        "\r\n",
        "There will be three columns where the fix will be required\r\n",
        "\r\n",
        "1. In team1 column\r\n",
        "2. In team2 column\r\n",
        "3. In winner column"
      ]
    },
    {
      "cell_type": "code",
      "metadata": {
        "id": "IuwiUWjPb5s9"
      },
      "source": [
        "#Using replace method in pandas library\r\n",
        "\r\n",
        "df.team1.replace({'Rising Pune Supergiants' : 'Rising Pune Supergiant', 'Delhi Daredevils':'Delhi Capitals'},inplace=True)\r\n",
        "df.team2.replace({'Rising Pune Supergiants' : 'Rising Pune Supergiant', 'Delhi Daredevils':'Delhi Capitals'},inplace=True)\r\n",
        "df.winner.replace({'Rising Pune Supergiants' : 'Rising Pune Supergiant', 'Delhi Daredevils':'Delhi Capitals'},inplace=True)"
      ],
      "execution_count": 12,
      "outputs": []
    },
    {
      "cell_type": "code",
      "metadata": {
        "colab": {
          "base_uri": "https://localhost:8080/",
          "height": 607
        },
        "id": "cJvn9dMEb5qc",
        "outputId": "a32020e0-a02b-48d7-d3e9-7d86d24d3e5d"
      },
      "source": [
        "#Finding the rows where the city is NaN\r\n",
        "df[df.city.isna()]"
      ],
      "execution_count": 13,
      "outputs": [
        {
          "output_type": "execute_result",
          "data": {
            "text/html": [
              "<div>\n",
              "<style scoped>\n",
              "    .dataframe tbody tr th:only-of-type {\n",
              "        vertical-align: middle;\n",
              "    }\n",
              "\n",
              "    .dataframe tbody tr th {\n",
              "        vertical-align: top;\n",
              "    }\n",
              "\n",
              "    .dataframe thead th {\n",
              "        text-align: right;\n",
              "    }\n",
              "</style>\n",
              "<table border=\"1\" class=\"dataframe\">\n",
              "  <thead>\n",
              "    <tr style=\"text-align: right;\">\n",
              "      <th></th>\n",
              "      <th>id</th>\n",
              "      <th>season</th>\n",
              "      <th>city</th>\n",
              "      <th>date</th>\n",
              "      <th>team1</th>\n",
              "      <th>team2</th>\n",
              "      <th>toss_winner</th>\n",
              "      <th>toss_decision</th>\n",
              "      <th>result</th>\n",
              "      <th>dl_applied</th>\n",
              "      <th>winner</th>\n",
              "      <th>win_by_runs</th>\n",
              "      <th>win_by_wickets</th>\n",
              "      <th>player_of_match</th>\n",
              "      <th>venue</th>\n",
              "    </tr>\n",
              "  </thead>\n",
              "  <tbody>\n",
              "    <tr>\n",
              "      <th>461</th>\n",
              "      <td>462</td>\n",
              "      <td>2014</td>\n",
              "      <td>NaN</td>\n",
              "      <td>2014-04-19</td>\n",
              "      <td>Mumbai Indians</td>\n",
              "      <td>Royal Challengers Bangalore</td>\n",
              "      <td>Royal Challengers Bangalore</td>\n",
              "      <td>field</td>\n",
              "      <td>normal</td>\n",
              "      <td>0</td>\n",
              "      <td>Royal Challengers Bangalore</td>\n",
              "      <td>0</td>\n",
              "      <td>7</td>\n",
              "      <td>PA Patel</td>\n",
              "      <td>Dubai International Cricket Stadium</td>\n",
              "    </tr>\n",
              "    <tr>\n",
              "      <th>462</th>\n",
              "      <td>463</td>\n",
              "      <td>2014</td>\n",
              "      <td>NaN</td>\n",
              "      <td>2014-04-19</td>\n",
              "      <td>Kolkata Knight Riders</td>\n",
              "      <td>Delhi Capitals</td>\n",
              "      <td>Kolkata Knight Riders</td>\n",
              "      <td>bat</td>\n",
              "      <td>normal</td>\n",
              "      <td>0</td>\n",
              "      <td>Delhi Capitals</td>\n",
              "      <td>0</td>\n",
              "      <td>4</td>\n",
              "      <td>JP Duminy</td>\n",
              "      <td>Dubai International Cricket Stadium</td>\n",
              "    </tr>\n",
              "    <tr>\n",
              "      <th>466</th>\n",
              "      <td>467</td>\n",
              "      <td>2014</td>\n",
              "      <td>NaN</td>\n",
              "      <td>2014-04-23</td>\n",
              "      <td>Chennai Super Kings</td>\n",
              "      <td>Rajasthan Royals</td>\n",
              "      <td>Rajasthan Royals</td>\n",
              "      <td>field</td>\n",
              "      <td>normal</td>\n",
              "      <td>0</td>\n",
              "      <td>Chennai Super Kings</td>\n",
              "      <td>7</td>\n",
              "      <td>0</td>\n",
              "      <td>RA Jadeja</td>\n",
              "      <td>Dubai International Cricket Stadium</td>\n",
              "    </tr>\n",
              "    <tr>\n",
              "      <th>468</th>\n",
              "      <td>469</td>\n",
              "      <td>2014</td>\n",
              "      <td>NaN</td>\n",
              "      <td>2014-04-25</td>\n",
              "      <td>Sunrisers Hyderabad</td>\n",
              "      <td>Delhi Capitals</td>\n",
              "      <td>Sunrisers Hyderabad</td>\n",
              "      <td>bat</td>\n",
              "      <td>normal</td>\n",
              "      <td>0</td>\n",
              "      <td>Sunrisers Hyderabad</td>\n",
              "      <td>4</td>\n",
              "      <td>0</td>\n",
              "      <td>AJ Finch</td>\n",
              "      <td>Dubai International Cricket Stadium</td>\n",
              "    </tr>\n",
              "    <tr>\n",
              "      <th>469</th>\n",
              "      <td>470</td>\n",
              "      <td>2014</td>\n",
              "      <td>NaN</td>\n",
              "      <td>2014-04-25</td>\n",
              "      <td>Mumbai Indians</td>\n",
              "      <td>Chennai Super Kings</td>\n",
              "      <td>Mumbai Indians</td>\n",
              "      <td>bat</td>\n",
              "      <td>normal</td>\n",
              "      <td>0</td>\n",
              "      <td>Chennai Super Kings</td>\n",
              "      <td>0</td>\n",
              "      <td>7</td>\n",
              "      <td>MM Sharma</td>\n",
              "      <td>Dubai International Cricket Stadium</td>\n",
              "    </tr>\n",
              "    <tr>\n",
              "      <th>474</th>\n",
              "      <td>475</td>\n",
              "      <td>2014</td>\n",
              "      <td>NaN</td>\n",
              "      <td>2014-04-28</td>\n",
              "      <td>Royal Challengers Bangalore</td>\n",
              "      <td>Kings XI Punjab</td>\n",
              "      <td>Kings XI Punjab</td>\n",
              "      <td>field</td>\n",
              "      <td>normal</td>\n",
              "      <td>0</td>\n",
              "      <td>Kings XI Punjab</td>\n",
              "      <td>0</td>\n",
              "      <td>5</td>\n",
              "      <td>Sandeep Sharma</td>\n",
              "      <td>Dubai International Cricket Stadium</td>\n",
              "    </tr>\n",
              "    <tr>\n",
              "      <th>476</th>\n",
              "      <td>477</td>\n",
              "      <td>2014</td>\n",
              "      <td>NaN</td>\n",
              "      <td>2014-04-30</td>\n",
              "      <td>Sunrisers Hyderabad</td>\n",
              "      <td>Mumbai Indians</td>\n",
              "      <td>Mumbai Indians</td>\n",
              "      <td>field</td>\n",
              "      <td>normal</td>\n",
              "      <td>0</td>\n",
              "      <td>Sunrisers Hyderabad</td>\n",
              "      <td>15</td>\n",
              "      <td>0</td>\n",
              "      <td>B Kumar</td>\n",
              "      <td>Dubai International Cricket Stadium</td>\n",
              "    </tr>\n",
              "  </tbody>\n",
              "</table>\n",
              "</div>"
            ],
            "text/plain": [
              "      id  season  ... player_of_match                                venue\n",
              "461  462    2014  ...        PA Patel  Dubai International Cricket Stadium\n",
              "462  463    2014  ...       JP Duminy  Dubai International Cricket Stadium\n",
              "466  467    2014  ...       RA Jadeja  Dubai International Cricket Stadium\n",
              "468  469    2014  ...        AJ Finch  Dubai International Cricket Stadium\n",
              "469  470    2014  ...       MM Sharma  Dubai International Cricket Stadium\n",
              "474  475    2014  ...  Sandeep Sharma  Dubai International Cricket Stadium\n",
              "476  477    2014  ...         B Kumar  Dubai International Cricket Stadium\n",
              "\n",
              "[7 rows x 15 columns]"
            ]
          },
          "metadata": {
            "tags": []
          },
          "execution_count": 13
        }
      ]
    },
    {
      "cell_type": "markdown",
      "metadata": {
        "id": "Tbs7UvKtcxvc"
      },
      "source": [
        "From the above, it can be observed that city where no value is placed is played in the Stadium Dubai International Cricket Stadium located in Dubai. Therefore, the city in this will be Dubai."
      ]
    },
    {
      "cell_type": "code",
      "metadata": {
        "id": "EfbGZJcfct43"
      },
      "source": [
        "#placing city value to Dubai where there is no value\r\n",
        "df.loc[[461,462,466,468,469,474,476],'city'] = 'Dubai'"
      ],
      "execution_count": 14,
      "outputs": []
    },
    {
      "cell_type": "code",
      "metadata": {
        "colab": {
          "base_uri": "https://localhost:8080/",
          "height": 886
        },
        "id": "kobxxAT3ct2W",
        "outputId": "2015a452-49fe-4c18-9be5-84666d74ec73"
      },
      "source": [
        "df[df.result != 'normal']"
      ],
      "execution_count": 15,
      "outputs": [
        {
          "output_type": "execute_result",
          "data": {
            "text/html": [
              "<div>\n",
              "<style scoped>\n",
              "    .dataframe tbody tr th:only-of-type {\n",
              "        vertical-align: middle;\n",
              "    }\n",
              "\n",
              "    .dataframe tbody tr th {\n",
              "        vertical-align: top;\n",
              "    }\n",
              "\n",
              "    .dataframe thead th {\n",
              "        text-align: right;\n",
              "    }\n",
              "</style>\n",
              "<table border=\"1\" class=\"dataframe\">\n",
              "  <thead>\n",
              "    <tr style=\"text-align: right;\">\n",
              "      <th></th>\n",
              "      <th>id</th>\n",
              "      <th>season</th>\n",
              "      <th>city</th>\n",
              "      <th>date</th>\n",
              "      <th>team1</th>\n",
              "      <th>team2</th>\n",
              "      <th>toss_winner</th>\n",
              "      <th>toss_decision</th>\n",
              "      <th>result</th>\n",
              "      <th>dl_applied</th>\n",
              "      <th>winner</th>\n",
              "      <th>win_by_runs</th>\n",
              "      <th>win_by_wickets</th>\n",
              "      <th>player_of_match</th>\n",
              "      <th>venue</th>\n",
              "    </tr>\n",
              "  </thead>\n",
              "  <tbody>\n",
              "    <tr>\n",
              "      <th>33</th>\n",
              "      <td>34</td>\n",
              "      <td>2017</td>\n",
              "      <td>Rajkot</td>\n",
              "      <td>2017-04-29</td>\n",
              "      <td>Gujarat Lions</td>\n",
              "      <td>Mumbai Indians</td>\n",
              "      <td>Gujarat Lions</td>\n",
              "      <td>bat</td>\n",
              "      <td>tie</td>\n",
              "      <td>0</td>\n",
              "      <td>Mumbai Indians</td>\n",
              "      <td>0</td>\n",
              "      <td>0</td>\n",
              "      <td>KH Pandya</td>\n",
              "      <td>Saurashtra Cricket Association Stadium</td>\n",
              "    </tr>\n",
              "    <tr>\n",
              "      <th>125</th>\n",
              "      <td>126</td>\n",
              "      <td>2009</td>\n",
              "      <td>Cape Town</td>\n",
              "      <td>2009-04-23</td>\n",
              "      <td>Rajasthan Royals</td>\n",
              "      <td>Kolkata Knight Riders</td>\n",
              "      <td>Kolkata Knight Riders</td>\n",
              "      <td>field</td>\n",
              "      <td>tie</td>\n",
              "      <td>0</td>\n",
              "      <td>Rajasthan Royals</td>\n",
              "      <td>0</td>\n",
              "      <td>0</td>\n",
              "      <td>YK Pathan</td>\n",
              "      <td>Newlands</td>\n",
              "    </tr>\n",
              "    <tr>\n",
              "      <th>189</th>\n",
              "      <td>190</td>\n",
              "      <td>2010</td>\n",
              "      <td>Chennai</td>\n",
              "      <td>2010-03-21</td>\n",
              "      <td>Kings XI Punjab</td>\n",
              "      <td>Chennai Super Kings</td>\n",
              "      <td>Chennai Super Kings</td>\n",
              "      <td>field</td>\n",
              "      <td>tie</td>\n",
              "      <td>0</td>\n",
              "      <td>Kings XI Punjab</td>\n",
              "      <td>0</td>\n",
              "      <td>0</td>\n",
              "      <td>J Theron</td>\n",
              "      <td>MA Chidambaram Stadium, Chepauk</td>\n",
              "    </tr>\n",
              "    <tr>\n",
              "      <th>300</th>\n",
              "      <td>301</td>\n",
              "      <td>2011</td>\n",
              "      <td>Delhi</td>\n",
              "      <td>2011-05-21</td>\n",
              "      <td>Delhi Capitals</td>\n",
              "      <td>Pune Warriors</td>\n",
              "      <td>Delhi Daredevils</td>\n",
              "      <td>bat</td>\n",
              "      <td>no result</td>\n",
              "      <td>0</td>\n",
              "      <td>NaN</td>\n",
              "      <td>0</td>\n",
              "      <td>0</td>\n",
              "      <td>NaN</td>\n",
              "      <td>Feroz Shah Kotla</td>\n",
              "    </tr>\n",
              "    <tr>\n",
              "      <th>387</th>\n",
              "      <td>388</td>\n",
              "      <td>2013</td>\n",
              "      <td>Hyderabad</td>\n",
              "      <td>2013-04-07</td>\n",
              "      <td>Royal Challengers Bangalore</td>\n",
              "      <td>Sunrisers Hyderabad</td>\n",
              "      <td>Royal Challengers Bangalore</td>\n",
              "      <td>bat</td>\n",
              "      <td>tie</td>\n",
              "      <td>0</td>\n",
              "      <td>Sunrisers Hyderabad</td>\n",
              "      <td>0</td>\n",
              "      <td>0</td>\n",
              "      <td>GH Vihari</td>\n",
              "      <td>Rajiv Gandhi International Stadium, Uppal</td>\n",
              "    </tr>\n",
              "    <tr>\n",
              "      <th>400</th>\n",
              "      <td>401</td>\n",
              "      <td>2013</td>\n",
              "      <td>Bangalore</td>\n",
              "      <td>2013-04-16</td>\n",
              "      <td>Delhi Capitals</td>\n",
              "      <td>Royal Challengers Bangalore</td>\n",
              "      <td>Royal Challengers Bangalore</td>\n",
              "      <td>field</td>\n",
              "      <td>tie</td>\n",
              "      <td>0</td>\n",
              "      <td>Royal Challengers Bangalore</td>\n",
              "      <td>0</td>\n",
              "      <td>0</td>\n",
              "      <td>V Kohli</td>\n",
              "      <td>M Chinnaswamy Stadium</td>\n",
              "    </tr>\n",
              "    <tr>\n",
              "      <th>475</th>\n",
              "      <td>476</td>\n",
              "      <td>2014</td>\n",
              "      <td>Abu Dhabi</td>\n",
              "      <td>2014-04-29</td>\n",
              "      <td>Rajasthan Royals</td>\n",
              "      <td>Kolkata Knight Riders</td>\n",
              "      <td>Rajasthan Royals</td>\n",
              "      <td>bat</td>\n",
              "      <td>tie</td>\n",
              "      <td>0</td>\n",
              "      <td>Rajasthan Royals</td>\n",
              "      <td>0</td>\n",
              "      <td>0</td>\n",
              "      <td>JP Faulkner</td>\n",
              "      <td>Sheikh Zayed Stadium</td>\n",
              "    </tr>\n",
              "    <tr>\n",
              "      <th>535</th>\n",
              "      <td>536</td>\n",
              "      <td>2015</td>\n",
              "      <td>Ahmedabad</td>\n",
              "      <td>2015-04-21</td>\n",
              "      <td>Rajasthan Royals</td>\n",
              "      <td>Kings XI Punjab</td>\n",
              "      <td>Kings XI Punjab</td>\n",
              "      <td>field</td>\n",
              "      <td>tie</td>\n",
              "      <td>0</td>\n",
              "      <td>Kings XI Punjab</td>\n",
              "      <td>0</td>\n",
              "      <td>0</td>\n",
              "      <td>SE Marsh</td>\n",
              "      <td>Sardar Patel Stadium, Motera</td>\n",
              "    </tr>\n",
              "    <tr>\n",
              "      <th>545</th>\n",
              "      <td>546</td>\n",
              "      <td>2015</td>\n",
              "      <td>Bangalore</td>\n",
              "      <td>2015-04-29</td>\n",
              "      <td>Royal Challengers Bangalore</td>\n",
              "      <td>Rajasthan Royals</td>\n",
              "      <td>Rajasthan Royals</td>\n",
              "      <td>field</td>\n",
              "      <td>no result</td>\n",
              "      <td>0</td>\n",
              "      <td>NaN</td>\n",
              "      <td>0</td>\n",
              "      <td>0</td>\n",
              "      <td>NaN</td>\n",
              "      <td>M Chinnaswamy Stadium</td>\n",
              "    </tr>\n",
              "    <tr>\n",
              "      <th>570</th>\n",
              "      <td>571</td>\n",
              "      <td>2015</td>\n",
              "      <td>Bangalore</td>\n",
              "      <td>2015-05-17</td>\n",
              "      <td>Delhi Capitals</td>\n",
              "      <td>Royal Challengers Bangalore</td>\n",
              "      <td>Royal Challengers Bangalore</td>\n",
              "      <td>field</td>\n",
              "      <td>no result</td>\n",
              "      <td>0</td>\n",
              "      <td>NaN</td>\n",
              "      <td>0</td>\n",
              "      <td>0</td>\n",
              "      <td>NaN</td>\n",
              "      <td>M Chinnaswamy Stadium</td>\n",
              "    </tr>\n",
              "    <tr>\n",
              "      <th>705</th>\n",
              "      <td>11146</td>\n",
              "      <td>2019</td>\n",
              "      <td>Delhi</td>\n",
              "      <td>30/03/19</td>\n",
              "      <td>Kolkata Knight Riders</td>\n",
              "      <td>Delhi Capitals</td>\n",
              "      <td>Delhi Capitals</td>\n",
              "      <td>field</td>\n",
              "      <td>tie</td>\n",
              "      <td>0</td>\n",
              "      <td>Delhi Capitals</td>\n",
              "      <td>0</td>\n",
              "      <td>0</td>\n",
              "      <td>P Shaw</td>\n",
              "      <td>Feroz Shah Kotla Ground</td>\n",
              "    </tr>\n",
              "    <tr>\n",
              "      <th>744</th>\n",
              "      <td>11340</td>\n",
              "      <td>2019</td>\n",
              "      <td>Bengaluru</td>\n",
              "      <td>30/04/19</td>\n",
              "      <td>Royal Challengers Bangalore</td>\n",
              "      <td>Rajasthan Royals</td>\n",
              "      <td>Rajasthan Royals</td>\n",
              "      <td>field</td>\n",
              "      <td>no result</td>\n",
              "      <td>0</td>\n",
              "      <td>NaN</td>\n",
              "      <td>0</td>\n",
              "      <td>0</td>\n",
              "      <td>NaN</td>\n",
              "      <td>M. Chinnaswamy Stadium</td>\n",
              "    </tr>\n",
              "    <tr>\n",
              "      <th>746</th>\n",
              "      <td>11342</td>\n",
              "      <td>2019</td>\n",
              "      <td>Mumbai</td>\n",
              "      <td>02/05/19</td>\n",
              "      <td>Mumbai Indians</td>\n",
              "      <td>Sunrisers Hyderabad</td>\n",
              "      <td>Mumbai Indians</td>\n",
              "      <td>bat</td>\n",
              "      <td>tie</td>\n",
              "      <td>0</td>\n",
              "      <td>Mumbai Indians</td>\n",
              "      <td>0</td>\n",
              "      <td>0</td>\n",
              "      <td>JJ Bumrah</td>\n",
              "      <td>Wankhede Stadium</td>\n",
              "    </tr>\n",
              "  </tbody>\n",
              "</table>\n",
              "</div>"
            ],
            "text/plain": [
              "        id  season  ... player_of_match                                      venue\n",
              "33      34    2017  ...       KH Pandya     Saurashtra Cricket Association Stadium\n",
              "125    126    2009  ...       YK Pathan                                   Newlands\n",
              "189    190    2010  ...        J Theron            MA Chidambaram Stadium, Chepauk\n",
              "300    301    2011  ...             NaN                           Feroz Shah Kotla\n",
              "387    388    2013  ...       GH Vihari  Rajiv Gandhi International Stadium, Uppal\n",
              "400    401    2013  ...         V Kohli                      M Chinnaswamy Stadium\n",
              "475    476    2014  ...     JP Faulkner                       Sheikh Zayed Stadium\n",
              "535    536    2015  ...        SE Marsh               Sardar Patel Stadium, Motera\n",
              "545    546    2015  ...             NaN                      M Chinnaswamy Stadium\n",
              "570    571    2015  ...             NaN                      M Chinnaswamy Stadium\n",
              "705  11146    2019  ...          P Shaw                    Feroz Shah Kotla Ground\n",
              "744  11340    2019  ...             NaN                     M. Chinnaswamy Stadium\n",
              "746  11342    2019  ...       JJ Bumrah                           Wankhede Stadium\n",
              "\n",
              "[13 rows x 15 columns]"
            ]
          },
          "metadata": {
            "tags": []
          },
          "execution_count": 15
        }
      ]
    },
    {
      "cell_type": "code",
      "metadata": {
        "colab": {
          "base_uri": "https://localhost:8080/"
        },
        "id": "MKSl7VZzctzq",
        "outputId": "07b2d2d9-0d23-4b87-9856-5f23556093ce"
      },
      "source": [
        "df.info()"
      ],
      "execution_count": 16,
      "outputs": [
        {
          "output_type": "stream",
          "text": [
            "<class 'pandas.core.frame.DataFrame'>\n",
            "RangeIndex: 756 entries, 0 to 755\n",
            "Data columns (total 15 columns):\n",
            " #   Column           Non-Null Count  Dtype \n",
            "---  ------           --------------  ----- \n",
            " 0   id               756 non-null    int64 \n",
            " 1   season           756 non-null    int64 \n",
            " 2   city             756 non-null    object\n",
            " 3   date             756 non-null    object\n",
            " 4   team1            756 non-null    object\n",
            " 5   team2            756 non-null    object\n",
            " 6   toss_winner      756 non-null    object\n",
            " 7   toss_decision    756 non-null    object\n",
            " 8   result           756 non-null    object\n",
            " 9   dl_applied       756 non-null    int64 \n",
            " 10  winner           752 non-null    object\n",
            " 11  win_by_runs      756 non-null    int64 \n",
            " 12  win_by_wickets   756 non-null    int64 \n",
            " 13  player_of_match  752 non-null    object\n",
            " 14  venue            756 non-null    object\n",
            "dtypes: int64(5), object(10)\n",
            "memory usage: 88.7+ KB\n"
          ],
          "name": "stdout"
        }
      ]
    },
    {
      "cell_type": "code",
      "metadata": {
        "colab": {
          "base_uri": "https://localhost:8080/",
          "height": 283
        },
        "id": "0RPDHECactor",
        "outputId": "29c8e20b-7fb3-4e68-cedf-e7cb2cda1e9c"
      },
      "source": [
        "#Finding the rows where the winner is NaN\r\n",
        "df[df.winner.isna()]"
      ],
      "execution_count": 17,
      "outputs": [
        {
          "output_type": "execute_result",
          "data": {
            "text/html": [
              "<div>\n",
              "<style scoped>\n",
              "    .dataframe tbody tr th:only-of-type {\n",
              "        vertical-align: middle;\n",
              "    }\n",
              "\n",
              "    .dataframe tbody tr th {\n",
              "        vertical-align: top;\n",
              "    }\n",
              "\n",
              "    .dataframe thead th {\n",
              "        text-align: right;\n",
              "    }\n",
              "</style>\n",
              "<table border=\"1\" class=\"dataframe\">\n",
              "  <thead>\n",
              "    <tr style=\"text-align: right;\">\n",
              "      <th></th>\n",
              "      <th>id</th>\n",
              "      <th>season</th>\n",
              "      <th>city</th>\n",
              "      <th>date</th>\n",
              "      <th>team1</th>\n",
              "      <th>team2</th>\n",
              "      <th>toss_winner</th>\n",
              "      <th>toss_decision</th>\n",
              "      <th>result</th>\n",
              "      <th>dl_applied</th>\n",
              "      <th>winner</th>\n",
              "      <th>win_by_runs</th>\n",
              "      <th>win_by_wickets</th>\n",
              "      <th>player_of_match</th>\n",
              "      <th>venue</th>\n",
              "    </tr>\n",
              "  </thead>\n",
              "  <tbody>\n",
              "    <tr>\n",
              "      <th>300</th>\n",
              "      <td>301</td>\n",
              "      <td>2011</td>\n",
              "      <td>Delhi</td>\n",
              "      <td>2011-05-21</td>\n",
              "      <td>Delhi Capitals</td>\n",
              "      <td>Pune Warriors</td>\n",
              "      <td>Delhi Daredevils</td>\n",
              "      <td>bat</td>\n",
              "      <td>no result</td>\n",
              "      <td>0</td>\n",
              "      <td>NaN</td>\n",
              "      <td>0</td>\n",
              "      <td>0</td>\n",
              "      <td>NaN</td>\n",
              "      <td>Feroz Shah Kotla</td>\n",
              "    </tr>\n",
              "    <tr>\n",
              "      <th>545</th>\n",
              "      <td>546</td>\n",
              "      <td>2015</td>\n",
              "      <td>Bangalore</td>\n",
              "      <td>2015-04-29</td>\n",
              "      <td>Royal Challengers Bangalore</td>\n",
              "      <td>Rajasthan Royals</td>\n",
              "      <td>Rajasthan Royals</td>\n",
              "      <td>field</td>\n",
              "      <td>no result</td>\n",
              "      <td>0</td>\n",
              "      <td>NaN</td>\n",
              "      <td>0</td>\n",
              "      <td>0</td>\n",
              "      <td>NaN</td>\n",
              "      <td>M Chinnaswamy Stadium</td>\n",
              "    </tr>\n",
              "    <tr>\n",
              "      <th>570</th>\n",
              "      <td>571</td>\n",
              "      <td>2015</td>\n",
              "      <td>Bangalore</td>\n",
              "      <td>2015-05-17</td>\n",
              "      <td>Delhi Capitals</td>\n",
              "      <td>Royal Challengers Bangalore</td>\n",
              "      <td>Royal Challengers Bangalore</td>\n",
              "      <td>field</td>\n",
              "      <td>no result</td>\n",
              "      <td>0</td>\n",
              "      <td>NaN</td>\n",
              "      <td>0</td>\n",
              "      <td>0</td>\n",
              "      <td>NaN</td>\n",
              "      <td>M Chinnaswamy Stadium</td>\n",
              "    </tr>\n",
              "    <tr>\n",
              "      <th>744</th>\n",
              "      <td>11340</td>\n",
              "      <td>2019</td>\n",
              "      <td>Bengaluru</td>\n",
              "      <td>30/04/19</td>\n",
              "      <td>Royal Challengers Bangalore</td>\n",
              "      <td>Rajasthan Royals</td>\n",
              "      <td>Rajasthan Royals</td>\n",
              "      <td>field</td>\n",
              "      <td>no result</td>\n",
              "      <td>0</td>\n",
              "      <td>NaN</td>\n",
              "      <td>0</td>\n",
              "      <td>0</td>\n",
              "      <td>NaN</td>\n",
              "      <td>M. Chinnaswamy Stadium</td>\n",
              "    </tr>\n",
              "  </tbody>\n",
              "</table>\n",
              "</div>"
            ],
            "text/plain": [
              "        id  season  ... player_of_match                   venue\n",
              "300    301    2011  ...             NaN        Feroz Shah Kotla\n",
              "545    546    2015  ...             NaN   M Chinnaswamy Stadium\n",
              "570    571    2015  ...             NaN   M Chinnaswamy Stadium\n",
              "744  11340    2019  ...             NaN  M. Chinnaswamy Stadium\n",
              "\n",
              "[4 rows x 15 columns]"
            ]
          },
          "metadata": {
            "tags": []
          },
          "execution_count": 17
        }
      ]
    },
    {
      "cell_type": "markdown",
      "metadata": {
        "id": "Urum4L0ldHVd"
      },
      "source": [
        "From the above, it can be seen that in cases where there is no result, winner and player_of_match data is missing\r\n",
        "\r\n",
        "One thing you can also notice that in city there are multiple name for the same city i.e Bangalore and Bengaluru"
      ]
    },
    {
      "cell_type": "code",
      "metadata": {
        "colab": {
          "base_uri": "https://localhost:8080/"
        },
        "id": "SoMYnNALdEYf",
        "outputId": "8d869460-d56c-4473-be19-d59898ed8fd5"
      },
      "source": [
        "#Making Bangalore as Bengaluru\r\n",
        "df.city.replace({'Bangalore' : 'Bengaluru'},inplace=True)\r\n",
        "df.city.unique()"
      ],
      "execution_count": 18,
      "outputs": [
        {
          "output_type": "execute_result",
          "data": {
            "text/plain": [
              "array(['Hyderabad', 'Pune', 'Rajkot', 'Indore', 'Bengaluru', 'Mumbai',\n",
              "       'Kolkata', 'Delhi', 'Chandigarh', 'Kanpur', 'Jaipur', 'Chennai',\n",
              "       'Cape Town', 'Port Elizabeth', 'Durban', 'Centurion',\n",
              "       'East London', 'Johannesburg', 'Kimberley', 'Bloemfontein',\n",
              "       'Ahmedabad', 'Cuttack', 'Nagpur', 'Dharamsala', 'Kochi',\n",
              "       'Visakhapatnam', 'Raipur', 'Ranchi', 'Abu Dhabi', 'Sharjah',\n",
              "       'Dubai', 'Mohali'], dtype=object)"
            ]
          },
          "metadata": {
            "tags": []
          },
          "execution_count": 18
        }
      ]
    },
    {
      "cell_type": "markdown",
      "metadata": {
        "id": "iVW73jS3aGJR"
      },
      "source": [
        "## Exploratory Analysis and Visualization\n",
        "\n",
        "This section will consist of general analysis of the matches dataframe\n",
        "\n"
      ]
    },
    {
      "cell_type": "markdown",
      "metadata": {
        "id": "CriiEqkvaGJR"
      },
      "source": [
        "Let's begin by importing`matplotlib.pyplot` and `seaborn`."
      ]
    },
    {
      "cell_type": "code",
      "metadata": {
        "colab": {
          "base_uri": "https://localhost:8080/"
        },
        "id": "qD6psK7Zdhl9",
        "outputId": "d67a7021-41a7-42a8-ecec-26ad34fc28d5"
      },
      "source": [
        "#Finding the number of IPL matches played till 2019\r\n",
        "df.id.count()"
      ],
      "execution_count": 19,
      "outputs": [
        {
          "output_type": "execute_result",
          "data": {
            "text/plain": [
              "756"
            ]
          },
          "metadata": {
            "tags": []
          },
          "execution_count": 19
        }
      ]
    },
    {
      "cell_type": "code",
      "metadata": {
        "colab": {
          "base_uri": "https://localhost:8080/"
        },
        "id": "lc5gV1MJdoJp",
        "outputId": "b44161b2-6618-4b38-9298-88f56f5e8314"
      },
      "source": [
        "#Finding the number of teams who played IPL till 2019\r\n",
        "print(df.team1.unique())\r\n",
        "print('{} different teams played the IPL from 2008-2019'.format(df.team1.unique().shape[0]))"
      ],
      "execution_count": 20,
      "outputs": [
        {
          "output_type": "stream",
          "text": [
            "['Sunrisers Hyderabad' 'Mumbai Indians' 'Gujarat Lions'\n",
            " 'Rising Pune Supergiant' 'Royal Challengers Bangalore'\n",
            " 'Kolkata Knight Riders' 'Delhi Capitals' 'Kings XI Punjab'\n",
            " 'Chennai Super Kings' 'Rajasthan Royals' 'Deccan Chargers'\n",
            " 'Kochi Tuskers Kerala' 'Pune Warriors']\n",
            "13 different teams played the IPL from 2008-2019\n"
          ],
          "name": "stdout"
        }
      ]
    },
    {
      "cell_type": "markdown",
      "metadata": {
        "id": "95ITWxV3aGJS"
      },
      "source": [
        "##NUMBER OF MATCHES IN EACH SEASON"
      ]
    },
    {
      "cell_type": "code",
      "metadata": {
        "id": "VpxXi_9MaGJS"
      },
      "source": [
        "num_matches_df = df.groupby('season')[['id']].count()"
      ],
      "execution_count": 21,
      "outputs": []
    },
    {
      "cell_type": "code",
      "metadata": {
        "colab": {
          "base_uri": "https://localhost:8080/",
          "height": 432
        },
        "id": "eMUu3q-CaGJT",
        "outputId": "530c2eee-8699-466d-c882-56fdae0e298c"
      },
      "source": [
        "num_matches_df"
      ],
      "execution_count": 22,
      "outputs": [
        {
          "output_type": "execute_result",
          "data": {
            "text/html": [
              "<div>\n",
              "<style scoped>\n",
              "    .dataframe tbody tr th:only-of-type {\n",
              "        vertical-align: middle;\n",
              "    }\n",
              "\n",
              "    .dataframe tbody tr th {\n",
              "        vertical-align: top;\n",
              "    }\n",
              "\n",
              "    .dataframe thead th {\n",
              "        text-align: right;\n",
              "    }\n",
              "</style>\n",
              "<table border=\"1\" class=\"dataframe\">\n",
              "  <thead>\n",
              "    <tr style=\"text-align: right;\">\n",
              "      <th></th>\n",
              "      <th>id</th>\n",
              "    </tr>\n",
              "    <tr>\n",
              "      <th>season</th>\n",
              "      <th></th>\n",
              "    </tr>\n",
              "  </thead>\n",
              "  <tbody>\n",
              "    <tr>\n",
              "      <th>2008</th>\n",
              "      <td>58</td>\n",
              "    </tr>\n",
              "    <tr>\n",
              "      <th>2009</th>\n",
              "      <td>57</td>\n",
              "    </tr>\n",
              "    <tr>\n",
              "      <th>2010</th>\n",
              "      <td>60</td>\n",
              "    </tr>\n",
              "    <tr>\n",
              "      <th>2011</th>\n",
              "      <td>73</td>\n",
              "    </tr>\n",
              "    <tr>\n",
              "      <th>2012</th>\n",
              "      <td>74</td>\n",
              "    </tr>\n",
              "    <tr>\n",
              "      <th>2013</th>\n",
              "      <td>76</td>\n",
              "    </tr>\n",
              "    <tr>\n",
              "      <th>2014</th>\n",
              "      <td>60</td>\n",
              "    </tr>\n",
              "    <tr>\n",
              "      <th>2015</th>\n",
              "      <td>59</td>\n",
              "    </tr>\n",
              "    <tr>\n",
              "      <th>2016</th>\n",
              "      <td>60</td>\n",
              "    </tr>\n",
              "    <tr>\n",
              "      <th>2017</th>\n",
              "      <td>59</td>\n",
              "    </tr>\n",
              "    <tr>\n",
              "      <th>2018</th>\n",
              "      <td>60</td>\n",
              "    </tr>\n",
              "    <tr>\n",
              "      <th>2019</th>\n",
              "      <td>60</td>\n",
              "    </tr>\n",
              "  </tbody>\n",
              "</table>\n",
              "</div>"
            ],
            "text/plain": [
              "        id\n",
              "season    \n",
              "2008    58\n",
              "2009    57\n",
              "2010    60\n",
              "2011    73\n",
              "2012    74\n",
              "2013    76\n",
              "2014    60\n",
              "2015    59\n",
              "2016    60\n",
              "2017    59\n",
              "2018    60\n",
              "2019    60"
            ]
          },
          "metadata": {
            "tags": []
          },
          "execution_count": 22
        }
      ]
    },
    {
      "cell_type": "code",
      "metadata": {
        "colab": {
          "base_uri": "https://localhost:8080/",
          "height": 498
        },
        "id": "Xka4_Mkvd7eG",
        "outputId": "9cd73830-6722-4a53-ed9a-ab9e23c24a0d"
      },
      "source": [
        "#Number of matches in each season\r\n",
        "plt.title('Number of matches in each season')\r\n",
        "plt.xlabel('Seasons')\r\n",
        "plt.ylabel('Total no. of matches')\r\n",
        "plt.xticks(num_matches_df.index)\r\n",
        "plt.bar(num_matches_df.index,num_matches_df.id,width=0.8, color=['#15244C','#FFFF48','#292734','#EF2920','#CD202D','#ECC5F2',\r\n",
        "              '#294A73','#242307','#158EA6','#E82865',\r\n",
        "             '#005DB7','#C23E25'], alpha=0.8);"
      ],
      "execution_count": 23,
      "outputs": [
        {
          "output_type": "display_data",
          "data": {
            "image/png": "[encoded data removed]",
            "text/plain": [
              "<Figure size 1080x540 with 1 Axes>"
            ]
          },
          "metadata": {
            "tags": []
          }
        }
      ]
    },
    {
      "cell_type": "markdown",
      "metadata": {
        "id": "oJUGAmcvaGJT"
      },
      "source": [
        "Question emanated from the above graph: Why number of matches are greater in 2011,2012 and 2013 ?"
      ]
    },
    {
      "cell_type": "markdown",
      "metadata": {
        "id": "eBvaNw3ue6CD"
      },
      "source": [
        "##NUMBER OF MATCHES WON BY EACH TEAM"
      ]
    },
    {
      "cell_type": "code",
      "metadata": {
        "colab": {
          "base_uri": "https://localhost:8080/",
          "height": 432
        },
        "id": "MrLdURRUaGJT",
        "outputId": "eb0d5b4b-79c4-4b56-f712-dae86b251e22"
      },
      "source": [
        "#Number of matches won by each team from 2008-2019\r\n",
        "\r\n",
        "winner_df = df.groupby('winner')[['id']].count()\r\n",
        "winner_df=winner_df.sort_values('id', ascending=False).reset_index()\r\n",
        "\r\n",
        "winner_df.rename(columns = { 'id': 'matches_won','winner':'team'}, inplace = True)\r\n",
        "winner_df"
      ],
      "execution_count": 24,
      "outputs": [
        {
          "output_type": "execute_result",
          "data": {
            "text/html": [
              "<div>\n",
              "<style scoped>\n",
              "    .dataframe tbody tr th:only-of-type {\n",
              "        vertical-align: middle;\n",
              "    }\n",
              "\n",
              "    .dataframe tbody tr th {\n",
              "        vertical-align: top;\n",
              "    }\n",
              "\n",
              "    .dataframe thead th {\n",
              "        text-align: right;\n",
              "    }\n",
              "</style>\n",
              "<table border=\"1\" class=\"dataframe\">\n",
              "  <thead>\n",
              "    <tr style=\"text-align: right;\">\n",
              "      <th></th>\n",
              "      <th>team</th>\n",
              "      <th>matches_won</th>\n",
              "    </tr>\n",
              "  </thead>\n",
              "  <tbody>\n",
              "    <tr>\n",
              "      <th>0</th>\n",
              "      <td>Mumbai Indians</td>\n",
              "      <td>109</td>\n",
              "    </tr>\n",
              "    <tr>\n",
              "      <th>1</th>\n",
              "      <td>Chennai Super Kings</td>\n",
              "      <td>100</td>\n",
              "    </tr>\n",
              "    <tr>\n",
              "      <th>2</th>\n",
              "      <td>Kolkata Knight Riders</td>\n",
              "      <td>92</td>\n",
              "    </tr>\n",
              "    <tr>\n",
              "      <th>3</th>\n",
              "      <td>Royal Challengers Bangalore</td>\n",
              "      <td>84</td>\n",
              "    </tr>\n",
              "    <tr>\n",
              "      <th>4</th>\n",
              "      <td>Kings XI Punjab</td>\n",
              "      <td>82</td>\n",
              "    </tr>\n",
              "    <tr>\n",
              "      <th>5</th>\n",
              "      <td>Delhi Capitals</td>\n",
              "      <td>77</td>\n",
              "    </tr>\n",
              "    <tr>\n",
              "      <th>6</th>\n",
              "      <td>Rajasthan Royals</td>\n",
              "      <td>75</td>\n",
              "    </tr>\n",
              "    <tr>\n",
              "      <th>7</th>\n",
              "      <td>Sunrisers Hyderabad</td>\n",
              "      <td>58</td>\n",
              "    </tr>\n",
              "    <tr>\n",
              "      <th>8</th>\n",
              "      <td>Deccan Chargers</td>\n",
              "      <td>29</td>\n",
              "    </tr>\n",
              "    <tr>\n",
              "      <th>9</th>\n",
              "      <td>Rising Pune Supergiant</td>\n",
              "      <td>15</td>\n",
              "    </tr>\n",
              "    <tr>\n",
              "      <th>10</th>\n",
              "      <td>Gujarat Lions</td>\n",
              "      <td>13</td>\n",
              "    </tr>\n",
              "    <tr>\n",
              "      <th>11</th>\n",
              "      <td>Pune Warriors</td>\n",
              "      <td>12</td>\n",
              "    </tr>\n",
              "    <tr>\n",
              "      <th>12</th>\n",
              "      <td>Kochi Tuskers Kerala</td>\n",
              "      <td>6</td>\n",
              "    </tr>\n",
              "  </tbody>\n",
              "</table>\n",
              "</div>"
            ],
            "text/plain": [
              "                           team  matches_won\n",
              "0                Mumbai Indians          109\n",
              "1           Chennai Super Kings          100\n",
              "2         Kolkata Knight Riders           92\n",
              "3   Royal Challengers Bangalore           84\n",
              "4               Kings XI Punjab           82\n",
              "5                Delhi Capitals           77\n",
              "6              Rajasthan Royals           75\n",
              "7           Sunrisers Hyderabad           58\n",
              "8               Deccan Chargers           29\n",
              "9        Rising Pune Supergiant           15\n",
              "10                Gujarat Lions           13\n",
              "11                Pune Warriors           12\n",
              "12         Kochi Tuskers Kerala            6"
            ]
          },
          "metadata": {
            "tags": []
          },
          "execution_count": 24
        }
      ]
    },
    {
      "cell_type": "code",
      "metadata": {
        "colab": {
          "base_uri": "https://localhost:8080/",
          "height": 644
        },
        "id": "fiazaJWmaGJU",
        "outputId": "32bac6b1-8b70-4175-c270-e1fbc896fec8"
      },
      "source": [
        "#Number of matches in each season\r\n",
        "plt.title('Number of matches won by each team from 2008-2019',fontweight=800)\r\n",
        "plt.xlabel('Teams')\r\n",
        "plt.ylabel('Total no. of matches won')\r\n",
        "plt.xticks(rotation=90,fontsize=10)\r\n",
        "plt.bar(winner_df.team,winner_df.matches_won, color=['#15244C','#FFFF48','#292734','#EF2920','#CD202D','#ECC5F2',\r\n",
        "               '#294A73','#D4480B','#242307','#FD511F','#158EA6','#E82865',\r\n",
        "               '#005DB7','#C23E25','#E82878'], alpha=0.8)"
      ],
      "execution_count": 25,
      "outputs": [
        {
          "output_type": "execute_result",
          "data": {
            "text/plain": [
              "<BarContainer object of 13 artists>"
            ]
          },
          "metadata": {
            "tags": []
          },
          "execution_count": 25
        },
        {
          "output_type": "display_data",
          "data": {
            "image/png": "[encoded data removed]",
            "text/plain": [
              "<Figure size 1080x540 with 1 Axes>"
            ]
          },
          "metadata": {
            "tags": []
          }
        }
      ]
    },
    {
      "cell_type": "markdown",
      "metadata": {
        "id": "BUqAtZG3aGJU"
      },
      "source": [
        "Question from the above graph: Why for some teams the number of wins are less than 20?"
      ]
    },
    {
      "cell_type": "markdown",
      "metadata": {
        "id": "vIiMZN-Kfar6"
      },
      "source": [
        "##COMPARISON BETWEEN MATCHES PLAYED AND MATCHES WON BY EACH TEAM"
      ]
    },
    {
      "cell_type": "code",
      "metadata": {
        "colab": {
          "base_uri": "https://localhost:8080/",
          "height": 432
        },
        "id": "cAwx4xtsaGJU",
        "outputId": "b31be22b-3c66-42ba-a7a1-010488b8bdb5"
      },
      "source": [
        "#Total Number of matches played by each team\r\n",
        "matches_team = pd.concat([df['team1'],df['team2']])\r\n",
        "matches_team_df=matches_team.value_counts().reset_index()  \r\n",
        "#value_counts() return a Series containing counts of unique values.\r\n",
        "#Series.reset_index() function generate a new DataFrame or Series with the index reset\r\n",
        "\r\n",
        "matches_team_df.columns=['team','total_matches']   #Make two Columns Teams and Total Matches\r\n",
        "matches_team_df.set_index('team',inplace=True)     #Sets Team as index\r\n",
        "merged_stats_df=matches_team_df.merge(winner_df,on='team')\r\n",
        "merged_stats_df['winning_percent'] = (merged_stats_df.matches_won/merged_stats_df.total_matches)*100\r\n",
        "merged_stats_df"
      ],
      "execution_count": 26,
      "outputs": [
        {
          "output_type": "execute_result",
          "data": {
            "text/html": [
              "<div>\n",
              "<style scoped>\n",
              "    .dataframe tbody tr th:only-of-type {\n",
              "        vertical-align: middle;\n",
              "    }\n",
              "\n",
              "    .dataframe tbody tr th {\n",
              "        vertical-align: top;\n",
              "    }\n",
              "\n",
              "    .dataframe thead th {\n",
              "        text-align: right;\n",
              "    }\n",
              "</style>\n",
              "<table border=\"1\" class=\"dataframe\">\n",
              "  <thead>\n",
              "    <tr style=\"text-align: right;\">\n",
              "      <th></th>\n",
              "      <th>team</th>\n",
              "      <th>total_matches</th>\n",
              "      <th>matches_won</th>\n",
              "      <th>winning_percent</th>\n",
              "    </tr>\n",
              "  </thead>\n",
              "  <tbody>\n",
              "    <tr>\n",
              "      <th>0</th>\n",
              "      <td>Mumbai Indians</td>\n",
              "      <td>187</td>\n",
              "      <td>109</td>\n",
              "      <td>58.288770</td>\n",
              "    </tr>\n",
              "    <tr>\n",
              "      <th>1</th>\n",
              "      <td>Royal Challengers Bangalore</td>\n",
              "      <td>180</td>\n",
              "      <td>84</td>\n",
              "      <td>46.666667</td>\n",
              "    </tr>\n",
              "    <tr>\n",
              "      <th>2</th>\n",
              "      <td>Kolkata Knight Riders</td>\n",
              "      <td>178</td>\n",
              "      <td>92</td>\n",
              "      <td>51.685393</td>\n",
              "    </tr>\n",
              "    <tr>\n",
              "      <th>3</th>\n",
              "      <td>Delhi Capitals</td>\n",
              "      <td>177</td>\n",
              "      <td>77</td>\n",
              "      <td>43.502825</td>\n",
              "    </tr>\n",
              "    <tr>\n",
              "      <th>4</th>\n",
              "      <td>Kings XI Punjab</td>\n",
              "      <td>176</td>\n",
              "      <td>82</td>\n",
              "      <td>46.590909</td>\n",
              "    </tr>\n",
              "    <tr>\n",
              "      <th>5</th>\n",
              "      <td>Chennai Super Kings</td>\n",
              "      <td>164</td>\n",
              "      <td>100</td>\n",
              "      <td>60.975610</td>\n",
              "    </tr>\n",
              "    <tr>\n",
              "      <th>6</th>\n",
              "      <td>Rajasthan Royals</td>\n",
              "      <td>147</td>\n",
              "      <td>75</td>\n",
              "      <td>51.020408</td>\n",
              "    </tr>\n",
              "    <tr>\n",
              "      <th>7</th>\n",
              "      <td>Sunrisers Hyderabad</td>\n",
              "      <td>108</td>\n",
              "      <td>58</td>\n",
              "      <td>53.703704</td>\n",
              "    </tr>\n",
              "    <tr>\n",
              "      <th>8</th>\n",
              "      <td>Deccan Chargers</td>\n",
              "      <td>75</td>\n",
              "      <td>29</td>\n",
              "      <td>38.666667</td>\n",
              "    </tr>\n",
              "    <tr>\n",
              "      <th>9</th>\n",
              "      <td>Pune Warriors</td>\n",
              "      <td>46</td>\n",
              "      <td>12</td>\n",
              "      <td>26.086957</td>\n",
              "    </tr>\n",
              "    <tr>\n",
              "      <th>10</th>\n",
              "      <td>Gujarat Lions</td>\n",
              "      <td>30</td>\n",
              "      <td>13</td>\n",
              "      <td>43.333333</td>\n",
              "    </tr>\n",
              "    <tr>\n",
              "      <th>11</th>\n",
              "      <td>Rising Pune Supergiant</td>\n",
              "      <td>30</td>\n",
              "      <td>15</td>\n",
              "      <td>50.000000</td>\n",
              "    </tr>\n",
              "    <tr>\n",
              "      <th>12</th>\n",
              "      <td>Kochi Tuskers Kerala</td>\n",
              "      <td>14</td>\n",
              "      <td>6</td>\n",
              "      <td>42.857143</td>\n",
              "    </tr>\n",
              "  </tbody>\n",
              "</table>\n",
              "</div>"
            ],
            "text/plain": [
              "                           team  total_matches  matches_won  winning_percent\n",
              "0                Mumbai Indians            187          109        58.288770\n",
              "1   Royal Challengers Bangalore            180           84        46.666667\n",
              "2         Kolkata Knight Riders            178           92        51.685393\n",
              "3                Delhi Capitals            177           77        43.502825\n",
              "4               Kings XI Punjab            176           82        46.590909\n",
              "5           Chennai Super Kings            164          100        60.975610\n",
              "6              Rajasthan Royals            147           75        51.020408\n",
              "7           Sunrisers Hyderabad            108           58        53.703704\n",
              "8               Deccan Chargers             75           29        38.666667\n",
              "9                 Pune Warriors             46           12        26.086957\n",
              "10                Gujarat Lions             30           13        43.333333\n",
              "11       Rising Pune Supergiant             30           15        50.000000\n",
              "12         Kochi Tuskers Kerala             14            6        42.857143"
            ]
          },
          "metadata": {
            "tags": []
          },
          "execution_count": 26
        }
      ]
    },
    {
      "cell_type": "code",
      "metadata": {
        "colab": {
          "base_uri": "https://localhost:8080/",
          "height": 686
        },
        "id": "KBmlhe0WaGJU",
        "outputId": "2f2c078f-65c3-464f-ca8c-c72532913f01"
      },
      "source": [
        "plt.title('Number of matches played vs Number of matches won',fontweight=800)\r\n",
        "plt.xlabel('Teams')\r\n",
        "plt.ylabel('Total no. of matches/Winning Percent')\r\n",
        "plt.xticks(rotation=90)\r\n",
        "plt.bar(merged_stats_df.team,merged_stats_df.total_matches,alpha=0.4)\r\n",
        "plt.bar(merged_stats_df.team,merged_stats_df.matches_won, alpha=0.4)\r\n",
        "plt.plot(merged_stats_df.team,merged_stats_df.winning_percent,'x-r')\r\n",
        "plt.legend(['Winning Percent','Matches Played','Matches Won']);\r\n",
        "\r\n"
      ],
      "execution_count": 27,
      "outputs": [
        {
          "output_type": "display_data",
          "data": {
            "image/png": "[encoded data removed]",
            "text/plain": [
              "<Figure size 1080x540 with 1 Axes>"
            ]
          },
          "metadata": {
            "tags": []
          }
        }
      ]
    },
    {
      "cell_type": "markdown",
      "metadata": {
        "id": "BHSA96bGaGJV"
      },
      "source": [
        "Inferences:\r\n",
        "\r\n",
        "1. Even though Mumbai Indians has won more matches but they have also played more matches than any other teams. Thus you can see that CSK with fewer matches have highest winning percentage\r\n",
        "2. The question in the earlier graph can be answered here as why for some teams, the no. of wins are less than 20. This is due to less matches played by them as shown in the graph."
      ]
    },
    {
      "cell_type": "markdown",
      "metadata": {
        "id": "GfhpyqqXfxRq"
      },
      "source": [
        "##MATCHES HOSTED BY EACH CITY"
      ]
    },
    {
      "cell_type": "code",
      "metadata": {
        "colab": {
          "base_uri": "https://localhost:8080/",
          "height": 994
        },
        "id": "WRtvsbPRaGJV",
        "outputId": "d244842b-7f6c-40fa-8a25-65449190dc24"
      },
      "source": [
        "city_df = df.groupby('city')[['id']].count()\r\n",
        "city_df=city_df.sort_values('id', ascending=False).reset_index()\r\n",
        "\r\n",
        "city_df.rename(columns = { 'id': 'matches'}, inplace = True)\r\n",
        "city_df"
      ],
      "execution_count": 28,
      "outputs": [
        {
          "output_type": "execute_result",
          "data": {
            "text/html": [
              "<div>\n",
              "<style scoped>\n",
              "    .dataframe tbody tr th:only-of-type {\n",
              "        vertical-align: middle;\n",
              "    }\n",
              "\n",
              "    .dataframe tbody tr th {\n",
              "        vertical-align: top;\n",
              "    }\n",
              "\n",
              "    .dataframe thead th {\n",
              "        text-align: right;\n",
              "    }\n",
              "</style>\n",
              "<table border=\"1\" class=\"dataframe\">\n",
              "  <thead>\n",
              "    <tr style=\"text-align: right;\">\n",
              "      <th></th>\n",
              "      <th>city</th>\n",
              "      <th>matches</th>\n",
              "    </tr>\n",
              "  </thead>\n",
              "  <tbody>\n",
              "    <tr>\n",
              "      <th>0</th>\n",
              "      <td>Mumbai</td>\n",
              "      <td>101</td>\n",
              "    </tr>\n",
              "    <tr>\n",
              "      <th>1</th>\n",
              "      <td>Bengaluru</td>\n",
              "      <td>80</td>\n",
              "    </tr>\n",
              "    <tr>\n",
              "      <th>2</th>\n",
              "      <td>Kolkata</td>\n",
              "      <td>77</td>\n",
              "    </tr>\n",
              "    <tr>\n",
              "      <th>3</th>\n",
              "      <td>Delhi</td>\n",
              "      <td>74</td>\n",
              "    </tr>\n",
              "    <tr>\n",
              "      <th>4</th>\n",
              "      <td>Hyderabad</td>\n",
              "      <td>64</td>\n",
              "    </tr>\n",
              "    <tr>\n",
              "      <th>5</th>\n",
              "      <td>Chennai</td>\n",
              "      <td>57</td>\n",
              "    </tr>\n",
              "    <tr>\n",
              "      <th>6</th>\n",
              "      <td>Jaipur</td>\n",
              "      <td>47</td>\n",
              "    </tr>\n",
              "    <tr>\n",
              "      <th>7</th>\n",
              "      <td>Chandigarh</td>\n",
              "      <td>46</td>\n",
              "    </tr>\n",
              "    <tr>\n",
              "      <th>8</th>\n",
              "      <td>Pune</td>\n",
              "      <td>38</td>\n",
              "    </tr>\n",
              "    <tr>\n",
              "      <th>9</th>\n",
              "      <td>Durban</td>\n",
              "      <td>15</td>\n",
              "    </tr>\n",
              "    <tr>\n",
              "      <th>10</th>\n",
              "      <td>Visakhapatnam</td>\n",
              "      <td>13</td>\n",
              "    </tr>\n",
              "    <tr>\n",
              "      <th>11</th>\n",
              "      <td>Centurion</td>\n",
              "      <td>12</td>\n",
              "    </tr>\n",
              "    <tr>\n",
              "      <th>12</th>\n",
              "      <td>Ahmedabad</td>\n",
              "      <td>12</td>\n",
              "    </tr>\n",
              "    <tr>\n",
              "      <th>13</th>\n",
              "      <td>Rajkot</td>\n",
              "      <td>10</td>\n",
              "    </tr>\n",
              "    <tr>\n",
              "      <th>14</th>\n",
              "      <td>Mohali</td>\n",
              "      <td>10</td>\n",
              "    </tr>\n",
              "    <tr>\n",
              "      <th>15</th>\n",
              "      <td>Dharamsala</td>\n",
              "      <td>9</td>\n",
              "    </tr>\n",
              "    <tr>\n",
              "      <th>16</th>\n",
              "      <td>Indore</td>\n",
              "      <td>9</td>\n",
              "    </tr>\n",
              "    <tr>\n",
              "      <th>17</th>\n",
              "      <td>Johannesburg</td>\n",
              "      <td>8</td>\n",
              "    </tr>\n",
              "    <tr>\n",
              "      <th>18</th>\n",
              "      <td>Ranchi</td>\n",
              "      <td>7</td>\n",
              "    </tr>\n",
              "    <tr>\n",
              "      <th>19</th>\n",
              "      <td>Port Elizabeth</td>\n",
              "      <td>7</td>\n",
              "    </tr>\n",
              "    <tr>\n",
              "      <th>20</th>\n",
              "      <td>Cape Town</td>\n",
              "      <td>7</td>\n",
              "    </tr>\n",
              "    <tr>\n",
              "      <th>21</th>\n",
              "      <td>Dubai</td>\n",
              "      <td>7</td>\n",
              "    </tr>\n",
              "    <tr>\n",
              "      <th>22</th>\n",
              "      <td>Cuttack</td>\n",
              "      <td>7</td>\n",
              "    </tr>\n",
              "    <tr>\n",
              "      <th>23</th>\n",
              "      <td>Abu Dhabi</td>\n",
              "      <td>7</td>\n",
              "    </tr>\n",
              "    <tr>\n",
              "      <th>24</th>\n",
              "      <td>Raipur</td>\n",
              "      <td>6</td>\n",
              "    </tr>\n",
              "    <tr>\n",
              "      <th>25</th>\n",
              "      <td>Sharjah</td>\n",
              "      <td>6</td>\n",
              "    </tr>\n",
              "    <tr>\n",
              "      <th>26</th>\n",
              "      <td>Kochi</td>\n",
              "      <td>5</td>\n",
              "    </tr>\n",
              "    <tr>\n",
              "      <th>27</th>\n",
              "      <td>Kanpur</td>\n",
              "      <td>4</td>\n",
              "    </tr>\n",
              "    <tr>\n",
              "      <th>28</th>\n",
              "      <td>Kimberley</td>\n",
              "      <td>3</td>\n",
              "    </tr>\n",
              "    <tr>\n",
              "      <th>29</th>\n",
              "      <td>Nagpur</td>\n",
              "      <td>3</td>\n",
              "    </tr>\n",
              "    <tr>\n",
              "      <th>30</th>\n",
              "      <td>East London</td>\n",
              "      <td>3</td>\n",
              "    </tr>\n",
              "    <tr>\n",
              "      <th>31</th>\n",
              "      <td>Bloemfontein</td>\n",
              "      <td>2</td>\n",
              "    </tr>\n",
              "  </tbody>\n",
              "</table>\n",
              "</div>"
            ],
            "text/plain": [
              "              city  matches\n",
              "0           Mumbai      101\n",
              "1        Bengaluru       80\n",
              "2          Kolkata       77\n",
              "3            Delhi       74\n",
              "4        Hyderabad       64\n",
              "5          Chennai       57\n",
              "6           Jaipur       47\n",
              "7       Chandigarh       46\n",
              "8             Pune       38\n",
              "9           Durban       15\n",
              "10   Visakhapatnam       13\n",
              "11       Centurion       12\n",
              "12       Ahmedabad       12\n",
              "13          Rajkot       10\n",
              "14          Mohali       10\n",
              "15      Dharamsala        9\n",
              "16          Indore        9\n",
              "17    Johannesburg        8\n",
              "18          Ranchi        7\n",
              "19  Port Elizabeth        7\n",
              "20       Cape Town        7\n",
              "21           Dubai        7\n",
              "22         Cuttack        7\n",
              "23       Abu Dhabi        7\n",
              "24          Raipur        6\n",
              "25         Sharjah        6\n",
              "26           Kochi        5\n",
              "27          Kanpur        4\n",
              "28       Kimberley        3\n",
              "29          Nagpur        3\n",
              "30     East London        3\n",
              "31    Bloemfontein        2"
            ]
          },
          "metadata": {
            "tags": []
          },
          "execution_count": 28
        }
      ]
    },
    {
      "cell_type": "code",
      "metadata": {
        "colab": {
          "base_uri": "https://localhost:8080/",
          "height": 706
        },
        "id": "rllHeiBCaGJV",
        "outputId": "06bd0ff4-a6de-4bb7-936a-921d6ca2485c"
      },
      "source": [
        "plt.figure(figsize=(30, 15))\r\n",
        "plt.title('Number of matches hosted by each city from 2008-2019',fontweight=800)\r\n",
        "sns.barplot(y='city', x='matches', data=city_df);"
      ],
      "execution_count": 29,
      "outputs": [
        {
          "output_type": "display_data",
          "data": {
            "image/png": "[encoded data removed]",
            "text/plain": [
              "<Figure size 2160x1080 with 1 Axes>"
            ]
          },
          "metadata": {
            "tags": []
          }
        }
      ]
    },
    {
      "cell_type": "markdown",
      "metadata": {
        "id": "3m-e4tD9aGJW"
      },
      "source": [
        "Mumbai Team Hosts the maximum number of Matches "
      ]
    },
    {
      "cell_type": "markdown",
      "metadata": {
        "id": "dr9XKGuhaGJW"
      },
      "source": [
        "Let us save and upload our work to Jovian before continuing"
      ]
    },
    {
      "cell_type": "markdown",
      "metadata": {
        "id": "hS3iSdc8aGJY"
      },
      "source": [
        "## Asking and Answering Questions\n",
        "\n",
        "\n"
      ]
    },
    {
      "cell_type": "markdown",
      "metadata": {
        "id": "uhMgeUJ4aGJY"
      },
      "source": [
        "Section-3: Interesting Questions\n",
        "In this section the following questions will be asked:\n",
        "\n",
        "1. Find the number of matches where toss winner is the match winner ?\n",
        "2. Find the number of matches where team batting first is the match winner ?\n",
        "3. Total matches played between MI and CSK and which team won most matches ?\n",
        "4. Details of season winner and which team won most seasons? Also find the team which played most finals in IPL till 2019.\n",
        "5. Who are the top 10 players with most number of Man of the Match ?\n",
        "6. Why number of matches are greater in 2011,2012 and 2013 as graphically shown in Section-2?\n"
      ]
    },
    {
      "cell_type": "markdown",
      "metadata": {
        "id": "Z_YhHly7aGJZ"
      },
      "source": [
        "#### Q1:Find the number of matches where toss winner is the match winner ?"
      ]
    },
    {
      "cell_type": "code",
      "metadata": {
        "colab": {
          "base_uri": "https://localhost:8080/",
          "height": 0
        },
        "id": "n5mb57XKaGJZ",
        "outputId": "12389dc5-8017-4e24-e4e3-9bd9781b6d71"
      },
      "source": [
        "match_toss_winner_df = df[df['toss_winner']==df['winner']]\r\n",
        "\r\n",
        "match_toss_winner_df"
      ],
      "execution_count": 30,
      "outputs": [
        {
          "output_type": "execute_result",
          "data": {
            "text/html": [
              "<div>\n",
              "<style scoped>\n",
              "    .dataframe tbody tr th:only-of-type {\n",
              "        vertical-align: middle;\n",
              "    }\n",
              "\n",
              "    .dataframe tbody tr th {\n",
              "        vertical-align: top;\n",
              "    }\n",
              "\n",
              "    .dataframe thead th {\n",
              "        text-align: right;\n",
              "    }\n",
              "</style>\n",
              "<table border=\"1\" class=\"dataframe\">\n",
              "  <thead>\n",
              "    <tr style=\"text-align: right;\">\n",
              "      <th></th>\n",
              "      <th>id</th>\n",
              "      <th>season</th>\n",
              "      <th>city</th>\n",
              "      <th>date</th>\n",
              "      <th>team1</th>\n",
              "      <th>team2</th>\n",
              "      <th>toss_winner</th>\n",
              "      <th>toss_decision</th>\n",
              "      <th>result</th>\n",
              "      <th>dl_applied</th>\n",
              "      <th>winner</th>\n",
              "      <th>win_by_runs</th>\n",
              "      <th>win_by_wickets</th>\n",
              "      <th>player_of_match</th>\n",
              "      <th>venue</th>\n",
              "    </tr>\n",
              "  </thead>\n",
              "  <tbody>\n",
              "    <tr>\n",
              "      <th>1</th>\n",
              "      <td>2</td>\n",
              "      <td>2017</td>\n",
              "      <td>Pune</td>\n",
              "      <td>2017-04-06</td>\n",
              "      <td>Mumbai Indians</td>\n",
              "      <td>Rising Pune Supergiant</td>\n",
              "      <td>Rising Pune Supergiant</td>\n",
              "      <td>field</td>\n",
              "      <td>normal</td>\n",
              "      <td>0</td>\n",
              "      <td>Rising Pune Supergiant</td>\n",
              "      <td>0</td>\n",
              "      <td>7</td>\n",
              "      <td>SPD Smith</td>\n",
              "      <td>Maharashtra Cricket Association Stadium</td>\n",
              "    </tr>\n",
              "    <tr>\n",
              "      <th>2</th>\n",
              "      <td>3</td>\n",
              "      <td>2017</td>\n",
              "      <td>Rajkot</td>\n",
              "      <td>2017-04-07</td>\n",
              "      <td>Gujarat Lions</td>\n",
              "      <td>Kolkata Knight Riders</td>\n",
              "      <td>Kolkata Knight Riders</td>\n",
              "      <td>field</td>\n",
              "      <td>normal</td>\n",
              "      <td>0</td>\n",
              "      <td>Kolkata Knight Riders</td>\n",
              "      <td>0</td>\n",
              "      <td>10</td>\n",
              "      <td>CA Lynn</td>\n",
              "      <td>Saurashtra Cricket Association Stadium</td>\n",
              "    </tr>\n",
              "    <tr>\n",
              "      <th>3</th>\n",
              "      <td>4</td>\n",
              "      <td>2017</td>\n",
              "      <td>Indore</td>\n",
              "      <td>2017-04-08</td>\n",
              "      <td>Rising Pune Supergiant</td>\n",
              "      <td>Kings XI Punjab</td>\n",
              "      <td>Kings XI Punjab</td>\n",
              "      <td>field</td>\n",
              "      <td>normal</td>\n",
              "      <td>0</td>\n",
              "      <td>Kings XI Punjab</td>\n",
              "      <td>0</td>\n",
              "      <td>6</td>\n",
              "      <td>GJ Maxwell</td>\n",
              "      <td>Holkar Cricket Stadium</td>\n",
              "    </tr>\n",
              "    <tr>\n",
              "      <th>4</th>\n",
              "      <td>5</td>\n",
              "      <td>2017</td>\n",
              "      <td>Bengaluru</td>\n",
              "      <td>2017-04-08</td>\n",
              "      <td>Royal Challengers Bangalore</td>\n",
              "      <td>Delhi Capitals</td>\n",
              "      <td>Royal Challengers Bangalore</td>\n",
              "      <td>bat</td>\n",
              "      <td>normal</td>\n",
              "      <td>0</td>\n",
              "      <td>Royal Challengers Bangalore</td>\n",
              "      <td>15</td>\n",
              "      <td>0</td>\n",
              "      <td>KM Jadhav</td>\n",
              "      <td>M Chinnaswamy Stadium</td>\n",
              "    </tr>\n",
              "    <tr>\n",
              "      <th>5</th>\n",
              "      <td>6</td>\n",
              "      <td>2017</td>\n",
              "      <td>Hyderabad</td>\n",
              "      <td>2017-04-09</td>\n",
              "      <td>Gujarat Lions</td>\n",
              "      <td>Sunrisers Hyderabad</td>\n",
              "      <td>Sunrisers Hyderabad</td>\n",
              "      <td>field</td>\n",
              "      <td>normal</td>\n",
              "      <td>0</td>\n",
              "      <td>Sunrisers Hyderabad</td>\n",
              "      <td>0</td>\n",
              "      <td>9</td>\n",
              "      <td>Rashid Khan</td>\n",
              "      <td>Rajiv Gandhi International Stadium, Uppal</td>\n",
              "    </tr>\n",
              "    <tr>\n",
              "      <th>...</th>\n",
              "      <td>...</td>\n",
              "      <td>...</td>\n",
              "      <td>...</td>\n",
              "      <td>...</td>\n",
              "      <td>...</td>\n",
              "      <td>...</td>\n",
              "      <td>...</td>\n",
              "      <td>...</td>\n",
              "      <td>...</td>\n",
              "      <td>...</td>\n",
              "      <td>...</td>\n",
              "      <td>...</td>\n",
              "      <td>...</td>\n",
              "      <td>...</td>\n",
              "      <td>...</td>\n",
              "    </tr>\n",
              "    <tr>\n",
              "      <th>750</th>\n",
              "      <td>11346</td>\n",
              "      <td>2019</td>\n",
              "      <td>Mohali</td>\n",
              "      <td>05/05/19</td>\n",
              "      <td>Chennai Super Kings</td>\n",
              "      <td>Kings XI Punjab</td>\n",
              "      <td>Kings XI Punjab</td>\n",
              "      <td>field</td>\n",
              "      <td>normal</td>\n",
              "      <td>0</td>\n",
              "      <td>Kings XI Punjab</td>\n",
              "      <td>0</td>\n",
              "      <td>6</td>\n",
              "      <td>KL Rahul</td>\n",
              "      <td>IS Bindra Stadium</td>\n",
              "    </tr>\n",
              "    <tr>\n",
              "      <th>751</th>\n",
              "      <td>11347</td>\n",
              "      <td>2019</td>\n",
              "      <td>Mumbai</td>\n",
              "      <td>05/05/19</td>\n",
              "      <td>Kolkata Knight Riders</td>\n",
              "      <td>Mumbai Indians</td>\n",
              "      <td>Mumbai Indians</td>\n",
              "      <td>field</td>\n",
              "      <td>normal</td>\n",
              "      <td>0</td>\n",
              "      <td>Mumbai Indians</td>\n",
              "      <td>0</td>\n",
              "      <td>9</td>\n",
              "      <td>HH Pandya</td>\n",
              "      <td>Wankhede Stadium</td>\n",
              "    </tr>\n",
              "    <tr>\n",
              "      <th>753</th>\n",
              "      <td>11413</td>\n",
              "      <td>2019</td>\n",
              "      <td>Visakhapatnam</td>\n",
              "      <td>08/05/19</td>\n",
              "      <td>Sunrisers Hyderabad</td>\n",
              "      <td>Delhi Capitals</td>\n",
              "      <td>Delhi Capitals</td>\n",
              "      <td>field</td>\n",
              "      <td>normal</td>\n",
              "      <td>0</td>\n",
              "      <td>Delhi Capitals</td>\n",
              "      <td>0</td>\n",
              "      <td>2</td>\n",
              "      <td>RR Pant</td>\n",
              "      <td>ACA-VDCA Stadium</td>\n",
              "    </tr>\n",
              "    <tr>\n",
              "      <th>754</th>\n",
              "      <td>11414</td>\n",
              "      <td>2019</td>\n",
              "      <td>Visakhapatnam</td>\n",
              "      <td>10/05/19</td>\n",
              "      <td>Delhi Capitals</td>\n",
              "      <td>Chennai Super Kings</td>\n",
              "      <td>Chennai Super Kings</td>\n",
              "      <td>field</td>\n",
              "      <td>normal</td>\n",
              "      <td>0</td>\n",
              "      <td>Chennai Super Kings</td>\n",
              "      <td>0</td>\n",
              "      <td>6</td>\n",
              "      <td>F du Plessis</td>\n",
              "      <td>ACA-VDCA Stadium</td>\n",
              "    </tr>\n",
              "    <tr>\n",
              "      <th>755</th>\n",
              "      <td>11415</td>\n",
              "      <td>2019</td>\n",
              "      <td>Hyderabad</td>\n",
              "      <td>12/05/19</td>\n",
              "      <td>Mumbai Indians</td>\n",
              "      <td>Chennai Super Kings</td>\n",
              "      <td>Mumbai Indians</td>\n",
              "      <td>bat</td>\n",
              "      <td>normal</td>\n",
              "      <td>0</td>\n",
              "      <td>Mumbai Indians</td>\n",
              "      <td>1</td>\n",
              "      <td>0</td>\n",
              "      <td>JJ Bumrah</td>\n",
              "      <td>Rajiv Gandhi Intl. Cricket Stadium</td>\n",
              "    </tr>\n",
              "  </tbody>\n",
              "</table>\n",
              "<p>355 rows × 15 columns</p>\n",
              "</div>"
            ],
            "text/plain": [
              "        id  season  ... player_of_match                                      venue\n",
              "1        2    2017  ...       SPD Smith    Maharashtra Cricket Association Stadium\n",
              "2        3    2017  ...         CA Lynn     Saurashtra Cricket Association Stadium\n",
              "3        4    2017  ...      GJ Maxwell                     Holkar Cricket Stadium\n",
              "4        5    2017  ...       KM Jadhav                      M Chinnaswamy Stadium\n",
              "5        6    2017  ...     Rashid Khan  Rajiv Gandhi International Stadium, Uppal\n",
              "..     ...     ...  ...             ...                                        ...\n",
              "750  11346    2019  ...        KL Rahul                          IS Bindra Stadium\n",
              "751  11347    2019  ...       HH Pandya                           Wankhede Stadium\n",
              "753  11413    2019  ...         RR Pant                           ACA-VDCA Stadium\n",
              "754  11414    2019  ...    F du Plessis                           ACA-VDCA Stadium\n",
              "755  11415    2019  ...       JJ Bumrah         Rajiv Gandhi Intl. Cricket Stadium\n",
              "\n",
              "[355 rows x 15 columns]"
            ]
          },
          "metadata": {
            "tags": []
          },
          "execution_count": 30
        }
      ]
    },
    {
      "cell_type": "markdown",
      "metadata": {
        "id": "IJpUZgNfg3k2"
      },
      "source": [
        "The above table will also consist of those cases where result is tie and the toss winner won in super over Thus we have deduct those cases where result == tie in the above data frame"
      ]
    },
    {
      "cell_type": "code",
      "metadata": {
        "colab": {
          "base_uri": "https://localhost:8080/"
        },
        "id": "lNBnEdcOaGJa",
        "outputId": "47e84068-0429-445c-a3a5-294522fc6111"
      },
      "source": [
        "#Tie result\r\n",
        "match_toss_winner_df = match_toss_winner_df[match_toss_winner_df.result != 'tie']\r\n",
        "print('There are {} matches in the IPL played till now where toss winner is the winner of the match'.format(match_toss_winner_df.id.count()))"
      ],
      "execution_count": 31,
      "outputs": [
        {
          "output_type": "stream",
          "text": [
            "There are 350 matches in the IPL played till now where toss winner is the winner of the match\n"
          ],
          "name": "stdout"
        }
      ]
    },
    {
      "cell_type": "markdown",
      "metadata": {
        "id": "Vg6vdG0TaGJa"
      },
      "source": [
        "### Q2. Find the number of matches where team batting first is the match winner ?"
      ]
    },
    {
      "cell_type": "code",
      "metadata": {
        "colab": {
          "base_uri": "https://localhost:8080/"
        },
        "id": "pwgT05EMaGJf",
        "outputId": "e69c584f-68d0-4222-da57-351b9051f6a6"
      },
      "source": [
        "count_toss_winner_decision_df = match_toss_winner_df['toss_decision'].value_counts() #toss_winner decisions\r\n",
        "toss_loser_match_winner_df = df[df['toss_winner']!=df['winner']] #cases where toss loser is match winner\r\n",
        "toss_loser_match_winner_df = toss_loser_match_winner_df[toss_loser_match_winner_df.result != 'tie'] #Removing tie cases\r\n",
        "count_toss_decision_loser_df = toss_loser_match_winner_df['toss_decision'].value_counts() #toss_loser decisions-will be reverse of toss_winner\r\n",
        "team_bat_first_won =count_toss_decision_loser_df.field+count_toss_winner_decision_df.bat\r\n",
        "print('Total number of matches where team batting first is the winner of the match is {}'.format(team_bat_first_won))"
      ],
      "execution_count": 32,
      "outputs": [
        {
          "output_type": "stream",
          "text": [
            "Total number of matches where team batting first is the winner of the match is 350\n"
          ],
          "name": "stdout"
        }
      ]
    },
    {
      "cell_type": "markdown",
      "metadata": {
        "id": "FvAAKpqkaGJg"
      },
      "source": [
        "### Q3:Total matches played between RCB and CSK and which team won most matches ?"
      ]
    },
    {
      "cell_type": "code",
      "metadata": {
        "colab": {
          "base_uri": "https://localhost:8080/",
          "height": 1000
        },
        "id": "rw1fbcSqaGJg",
        "outputId": "12a4af60-7c84-43b2-eef1-da06f1237bb1"
      },
      "source": [
        "rcb_csk=df[((df.team1 ==\"Royal Challengers Bangalore\") &  (df.team2 ==\"Chennai Super Kings\")) | \r\n",
        "                  \r\n",
        "                  ((df.team2 ==\"Royal Challengers Bangalore\") &  (df.team1 ==\"Chennai Super Kings\"))]\r\n",
        "rcb_csk"
      ],
      "execution_count": 33,
      "outputs": [
        {
          "output_type": "execute_result",
          "data": {
            "text/html": [
              "<div>\n",
              "<style scoped>\n",
              "    .dataframe tbody tr th:only-of-type {\n",
              "        vertical-align: middle;\n",
              "    }\n",
              "\n",
              "    .dataframe tbody tr th {\n",
              "        vertical-align: top;\n",
              "    }\n",
              "\n",
              "    .dataframe thead th {\n",
              "        text-align: right;\n",
              "    }\n",
              "</style>\n",
              "<table border=\"1\" class=\"dataframe\">\n",
              "  <thead>\n",
              "    <tr style=\"text-align: right;\">\n",
              "      <th></th>\n",
              "      <th>id</th>\n",
              "      <th>season</th>\n",
              "      <th>city</th>\n",
              "      <th>date</th>\n",
              "      <th>team1</th>\n",
              "      <th>team2</th>\n",
              "      <th>toss_winner</th>\n",
              "      <th>toss_decision</th>\n",
              "      <th>result</th>\n",
              "      <th>dl_applied</th>\n",
              "      <th>winner</th>\n",
              "      <th>win_by_runs</th>\n",
              "      <th>win_by_wickets</th>\n",
              "      <th>player_of_match</th>\n",
              "      <th>venue</th>\n",
              "    </tr>\n",
              "  </thead>\n",
              "  <tbody>\n",
              "    <tr>\n",
              "      <th>73</th>\n",
              "      <td>74</td>\n",
              "      <td>2008</td>\n",
              "      <td>Bengaluru</td>\n",
              "      <td>2008-04-28</td>\n",
              "      <td>Chennai Super Kings</td>\n",
              "      <td>Royal Challengers Bangalore</td>\n",
              "      <td>Chennai Super Kings</td>\n",
              "      <td>bat</td>\n",
              "      <td>normal</td>\n",
              "      <td>0</td>\n",
              "      <td>Chennai Super Kings</td>\n",
              "      <td>13</td>\n",
              "      <td>0</td>\n",
              "      <td>MS Dhoni</td>\n",
              "      <td>M Chinnaswamy Stadium</td>\n",
              "    </tr>\n",
              "    <tr>\n",
              "      <th>106</th>\n",
              "      <td>107</td>\n",
              "      <td>2008</td>\n",
              "      <td>Chennai</td>\n",
              "      <td>2008-05-21</td>\n",
              "      <td>Royal Challengers Bangalore</td>\n",
              "      <td>Chennai Super Kings</td>\n",
              "      <td>Royal Challengers Bangalore</td>\n",
              "      <td>bat</td>\n",
              "      <td>normal</td>\n",
              "      <td>0</td>\n",
              "      <td>Royal Challengers Bangalore</td>\n",
              "      <td>14</td>\n",
              "      <td>0</td>\n",
              "      <td>A Kumble</td>\n",
              "      <td>MA Chidambaram Stadium, Chepauk</td>\n",
              "    </tr>\n",
              "    <tr>\n",
              "      <th>121</th>\n",
              "      <td>122</td>\n",
              "      <td>2009</td>\n",
              "      <td>Port Elizabeth</td>\n",
              "      <td>2009-04-20</td>\n",
              "      <td>Chennai Super Kings</td>\n",
              "      <td>Royal Challengers Bangalore</td>\n",
              "      <td>Chennai Super Kings</td>\n",
              "      <td>bat</td>\n",
              "      <td>normal</td>\n",
              "      <td>0</td>\n",
              "      <td>Chennai Super Kings</td>\n",
              "      <td>92</td>\n",
              "      <td>0</td>\n",
              "      <td>M Muralitharan</td>\n",
              "      <td>St George's Park</td>\n",
              "    </tr>\n",
              "    <tr>\n",
              "      <th>158</th>\n",
              "      <td>159</td>\n",
              "      <td>2009</td>\n",
              "      <td>Durban</td>\n",
              "      <td>2009-05-14</td>\n",
              "      <td>Chennai Super Kings</td>\n",
              "      <td>Royal Challengers Bangalore</td>\n",
              "      <td>Chennai Super Kings</td>\n",
              "      <td>bat</td>\n",
              "      <td>normal</td>\n",
              "      <td>0</td>\n",
              "      <td>Royal Challengers Bangalore</td>\n",
              "      <td>0</td>\n",
              "      <td>2</td>\n",
              "      <td>LRPL Taylor</td>\n",
              "      <td>Kingsmead</td>\n",
              "    </tr>\n",
              "    <tr>\n",
              "      <th>172</th>\n",
              "      <td>173</td>\n",
              "      <td>2009</td>\n",
              "      <td>Johannesburg</td>\n",
              "      <td>2009-05-23</td>\n",
              "      <td>Chennai Super Kings</td>\n",
              "      <td>Royal Challengers Bangalore</td>\n",
              "      <td>Royal Challengers Bangalore</td>\n",
              "      <td>field</td>\n",
              "      <td>normal</td>\n",
              "      <td>0</td>\n",
              "      <td>Royal Challengers Bangalore</td>\n",
              "      <td>0</td>\n",
              "      <td>6</td>\n",
              "      <td>MK Pandey</td>\n",
              "      <td>New Wanderers Stadium</td>\n",
              "    </tr>\n",
              "    <tr>\n",
              "      <th>191</th>\n",
              "      <td>192</td>\n",
              "      <td>2010</td>\n",
              "      <td>Bengaluru</td>\n",
              "      <td>2010-03-23</td>\n",
              "      <td>Royal Challengers Bangalore</td>\n",
              "      <td>Chennai Super Kings</td>\n",
              "      <td>Chennai Super Kings</td>\n",
              "      <td>field</td>\n",
              "      <td>normal</td>\n",
              "      <td>0</td>\n",
              "      <td>Royal Challengers Bangalore</td>\n",
              "      <td>36</td>\n",
              "      <td>0</td>\n",
              "      <td>RV Uthappa</td>\n",
              "      <td>M Chinnaswamy Stadium</td>\n",
              "    </tr>\n",
              "    <tr>\n",
              "      <th>201</th>\n",
              "      <td>202</td>\n",
              "      <td>2010</td>\n",
              "      <td>Chennai</td>\n",
              "      <td>2010-03-31</td>\n",
              "      <td>Royal Challengers Bangalore</td>\n",
              "      <td>Chennai Super Kings</td>\n",
              "      <td>Royal Challengers Bangalore</td>\n",
              "      <td>bat</td>\n",
              "      <td>normal</td>\n",
              "      <td>0</td>\n",
              "      <td>Chennai Super Kings</td>\n",
              "      <td>0</td>\n",
              "      <td>5</td>\n",
              "      <td>M Vijay</td>\n",
              "      <td>MA Chidambaram Stadium, Chepauk</td>\n",
              "    </tr>\n",
              "    <tr>\n",
              "      <th>247</th>\n",
              "      <td>248</td>\n",
              "      <td>2011</td>\n",
              "      <td>Chennai</td>\n",
              "      <td>2011-04-16</td>\n",
              "      <td>Chennai Super Kings</td>\n",
              "      <td>Royal Challengers Bangalore</td>\n",
              "      <td>Chennai Super Kings</td>\n",
              "      <td>bat</td>\n",
              "      <td>normal</td>\n",
              "      <td>0</td>\n",
              "      <td>Chennai Super Kings</td>\n",
              "      <td>21</td>\n",
              "      <td>0</td>\n",
              "      <td>MEK Hussey</td>\n",
              "      <td>MA Chidambaram Stadium, Chepauk</td>\n",
              "    </tr>\n",
              "    <tr>\n",
              "      <th>301</th>\n",
              "      <td>302</td>\n",
              "      <td>2011</td>\n",
              "      <td>Bengaluru</td>\n",
              "      <td>2011-05-22</td>\n",
              "      <td>Chennai Super Kings</td>\n",
              "      <td>Royal Challengers Bangalore</td>\n",
              "      <td>Royal Challengers Bangalore</td>\n",
              "      <td>field</td>\n",
              "      <td>normal</td>\n",
              "      <td>0</td>\n",
              "      <td>Royal Challengers Bangalore</td>\n",
              "      <td>0</td>\n",
              "      <td>8</td>\n",
              "      <td>CH Gayle</td>\n",
              "      <td>M Chinnaswamy Stadium</td>\n",
              "    </tr>\n",
              "    <tr>\n",
              "      <th>303</th>\n",
              "      <td>304</td>\n",
              "      <td>2011</td>\n",
              "      <td>Mumbai</td>\n",
              "      <td>2011-05-24</td>\n",
              "      <td>Royal Challengers Bangalore</td>\n",
              "      <td>Chennai Super Kings</td>\n",
              "      <td>Chennai Super Kings</td>\n",
              "      <td>field</td>\n",
              "      <td>normal</td>\n",
              "      <td>0</td>\n",
              "      <td>Chennai Super Kings</td>\n",
              "      <td>0</td>\n",
              "      <td>6</td>\n",
              "      <td>SK Raina</td>\n",
              "      <td>Wankhede Stadium</td>\n",
              "    </tr>\n",
              "    <tr>\n",
              "      <th>306</th>\n",
              "      <td>307</td>\n",
              "      <td>2011</td>\n",
              "      <td>Chennai</td>\n",
              "      <td>2011-05-28</td>\n",
              "      <td>Chennai Super Kings</td>\n",
              "      <td>Royal Challengers Bangalore</td>\n",
              "      <td>Chennai Super Kings</td>\n",
              "      <td>bat</td>\n",
              "      <td>normal</td>\n",
              "      <td>0</td>\n",
              "      <td>Chennai Super Kings</td>\n",
              "      <td>58</td>\n",
              "      <td>0</td>\n",
              "      <td>M Vijay</td>\n",
              "      <td>MA Chidambaram Stadium, Chepauk</td>\n",
              "    </tr>\n",
              "    <tr>\n",
              "      <th>319</th>\n",
              "      <td>320</td>\n",
              "      <td>2012</td>\n",
              "      <td>Chennai</td>\n",
              "      <td>2012-04-12</td>\n",
              "      <td>Royal Challengers Bangalore</td>\n",
              "      <td>Chennai Super Kings</td>\n",
              "      <td>Royal Challengers Bangalore</td>\n",
              "      <td>bat</td>\n",
              "      <td>normal</td>\n",
              "      <td>0</td>\n",
              "      <td>Chennai Super Kings</td>\n",
              "      <td>0</td>\n",
              "      <td>5</td>\n",
              "      <td>F du Plessis</td>\n",
              "      <td>MA Chidambaram Stadium, Chepauk</td>\n",
              "    </tr>\n",
              "    <tr>\n",
              "      <th>395</th>\n",
              "      <td>396</td>\n",
              "      <td>2013</td>\n",
              "      <td>Chennai</td>\n",
              "      <td>2013-04-13</td>\n",
              "      <td>Royal Challengers Bangalore</td>\n",
              "      <td>Chennai Super Kings</td>\n",
              "      <td>Chennai Super Kings</td>\n",
              "      <td>field</td>\n",
              "      <td>normal</td>\n",
              "      <td>0</td>\n",
              "      <td>Chennai Super Kings</td>\n",
              "      <td>0</td>\n",
              "      <td>4</td>\n",
              "      <td>RA Jadeja</td>\n",
              "      <td>MA Chidambaram Stadium, Chepauk</td>\n",
              "    </tr>\n",
              "    <tr>\n",
              "      <th>451</th>\n",
              "      <td>452</td>\n",
              "      <td>2013</td>\n",
              "      <td>Bengaluru</td>\n",
              "      <td>2013-05-18</td>\n",
              "      <td>Royal Challengers Bangalore</td>\n",
              "      <td>Chennai Super Kings</td>\n",
              "      <td>Chennai Super Kings</td>\n",
              "      <td>field</td>\n",
              "      <td>normal</td>\n",
              "      <td>0</td>\n",
              "      <td>Royal Challengers Bangalore</td>\n",
              "      <td>24</td>\n",
              "      <td>0</td>\n",
              "      <td>V Kohli</td>\n",
              "      <td>M Chinnaswamy Stadium</td>\n",
              "    </tr>\n",
              "    <tr>\n",
              "      <th>498</th>\n",
              "      <td>499</td>\n",
              "      <td>2014</td>\n",
              "      <td>Ranchi</td>\n",
              "      <td>2014-05-18</td>\n",
              "      <td>Chennai Super Kings</td>\n",
              "      <td>Royal Challengers Bangalore</td>\n",
              "      <td>Chennai Super Kings</td>\n",
              "      <td>bat</td>\n",
              "      <td>normal</td>\n",
              "      <td>0</td>\n",
              "      <td>Royal Challengers Bangalore</td>\n",
              "      <td>0</td>\n",
              "      <td>5</td>\n",
              "      <td>AB de Villiers</td>\n",
              "      <td>JSCA International Stadium Complex</td>\n",
              "    </tr>\n",
              "    <tr>\n",
              "      <th>509</th>\n",
              "      <td>510</td>\n",
              "      <td>2014</td>\n",
              "      <td>Bengaluru</td>\n",
              "      <td>2014-05-24</td>\n",
              "      <td>Royal Challengers Bangalore</td>\n",
              "      <td>Chennai Super Kings</td>\n",
              "      <td>Chennai Super Kings</td>\n",
              "      <td>field</td>\n",
              "      <td>normal</td>\n",
              "      <td>0</td>\n",
              "      <td>Chennai Super Kings</td>\n",
              "      <td>0</td>\n",
              "      <td>8</td>\n",
              "      <td>MS Dhoni</td>\n",
              "      <td>M Chinnaswamy Stadium</td>\n",
              "    </tr>\n",
              "    <tr>\n",
              "      <th>537</th>\n",
              "      <td>538</td>\n",
              "      <td>2015</td>\n",
              "      <td>Bengaluru</td>\n",
              "      <td>2015-04-22</td>\n",
              "      <td>Chennai Super Kings</td>\n",
              "      <td>Royal Challengers Bangalore</td>\n",
              "      <td>Royal Challengers Bangalore</td>\n",
              "      <td>field</td>\n",
              "      <td>normal</td>\n",
              "      <td>0</td>\n",
              "      <td>Chennai Super Kings</td>\n",
              "      <td>27</td>\n",
              "      <td>0</td>\n",
              "      <td>SK Raina</td>\n",
              "      <td>M Chinnaswamy Stadium</td>\n",
              "    </tr>\n",
              "    <tr>\n",
              "      <th>553</th>\n",
              "      <td>554</td>\n",
              "      <td>2015</td>\n",
              "      <td>Chennai</td>\n",
              "      <td>2015-05-04</td>\n",
              "      <td>Chennai Super Kings</td>\n",
              "      <td>Royal Challengers Bangalore</td>\n",
              "      <td>Chennai Super Kings</td>\n",
              "      <td>bat</td>\n",
              "      <td>normal</td>\n",
              "      <td>0</td>\n",
              "      <td>Chennai Super Kings</td>\n",
              "      <td>24</td>\n",
              "      <td>0</td>\n",
              "      <td>SK Raina</td>\n",
              "      <td>MA Chidambaram Stadium, Chepauk</td>\n",
              "    </tr>\n",
              "    <tr>\n",
              "      <th>574</th>\n",
              "      <td>575</td>\n",
              "      <td>2015</td>\n",
              "      <td>Ranchi</td>\n",
              "      <td>2015-05-22</td>\n",
              "      <td>Royal Challengers Bangalore</td>\n",
              "      <td>Chennai Super Kings</td>\n",
              "      <td>Chennai Super Kings</td>\n",
              "      <td>field</td>\n",
              "      <td>normal</td>\n",
              "      <td>0</td>\n",
              "      <td>Chennai Super Kings</td>\n",
              "      <td>0</td>\n",
              "      <td>3</td>\n",
              "      <td>A Nehra</td>\n",
              "      <td>JSCA International Stadium Complex</td>\n",
              "    </tr>\n",
              "    <tr>\n",
              "      <th>659</th>\n",
              "      <td>7917</td>\n",
              "      <td>2018</td>\n",
              "      <td>Bengaluru</td>\n",
              "      <td>25/04/18</td>\n",
              "      <td>Royal Challengers Bangalore</td>\n",
              "      <td>Chennai Super Kings</td>\n",
              "      <td>Chennai Super Kings</td>\n",
              "      <td>field</td>\n",
              "      <td>normal</td>\n",
              "      <td>0</td>\n",
              "      <td>Chennai Super Kings</td>\n",
              "      <td>0</td>\n",
              "      <td>5</td>\n",
              "      <td>MS Dhoni</td>\n",
              "      <td>M Chinnaswamy Stadium</td>\n",
              "    </tr>\n",
              "    <tr>\n",
              "      <th>670</th>\n",
              "      <td>7928</td>\n",
              "      <td>2018</td>\n",
              "      <td>Pune</td>\n",
              "      <td>05/05/18</td>\n",
              "      <td>Royal Challengers Bangalore</td>\n",
              "      <td>Chennai Super Kings</td>\n",
              "      <td>Chennai Super Kings</td>\n",
              "      <td>field</td>\n",
              "      <td>normal</td>\n",
              "      <td>0</td>\n",
              "      <td>Chennai Super Kings</td>\n",
              "      <td>0</td>\n",
              "      <td>6</td>\n",
              "      <td>RA Jadeja</td>\n",
              "      <td>Maharashtra Cricket Association Stadium</td>\n",
              "    </tr>\n",
              "    <tr>\n",
              "      <th>696</th>\n",
              "      <td>11137</td>\n",
              "      <td>2019</td>\n",
              "      <td>Chennai</td>\n",
              "      <td>23/03/19</td>\n",
              "      <td>Royal Challengers Bangalore</td>\n",
              "      <td>Chennai Super Kings</td>\n",
              "      <td>Chennai Super Kings</td>\n",
              "      <td>field</td>\n",
              "      <td>normal</td>\n",
              "      <td>0</td>\n",
              "      <td>Chennai Super Kings</td>\n",
              "      <td>0</td>\n",
              "      <td>7</td>\n",
              "      <td>Harbhajan Singh</td>\n",
              "      <td>M. A. Chidambaram Stadium</td>\n",
              "    </tr>\n",
              "    <tr>\n",
              "      <th>734</th>\n",
              "      <td>11330</td>\n",
              "      <td>2019</td>\n",
              "      <td>Bengaluru</td>\n",
              "      <td>21/04/19</td>\n",
              "      <td>Royal Challengers Bangalore</td>\n",
              "      <td>Chennai Super Kings</td>\n",
              "      <td>Chennai Super Kings</td>\n",
              "      <td>field</td>\n",
              "      <td>normal</td>\n",
              "      <td>0</td>\n",
              "      <td>Royal Challengers Bangalore</td>\n",
              "      <td>1</td>\n",
              "      <td>0</td>\n",
              "      <td>PA Patel</td>\n",
              "      <td>M. Chinnaswamy Stadium</td>\n",
              "    </tr>\n",
              "  </tbody>\n",
              "</table>\n",
              "</div>"
            ],
            "text/plain": [
              "        id  season  ...  player_of_match                                    venue\n",
              "73      74    2008  ...         MS Dhoni                    M Chinnaswamy Stadium\n",
              "106    107    2008  ...         A Kumble          MA Chidambaram Stadium, Chepauk\n",
              "121    122    2009  ...   M Muralitharan                         St George's Park\n",
              "158    159    2009  ...      LRPL Taylor                                Kingsmead\n",
              "172    173    2009  ...        MK Pandey                    New Wanderers Stadium\n",
              "191    192    2010  ...       RV Uthappa                    M Chinnaswamy Stadium\n",
              "201    202    2010  ...          M Vijay          MA Chidambaram Stadium, Chepauk\n",
              "247    248    2011  ...       MEK Hussey          MA Chidambaram Stadium, Chepauk\n",
              "301    302    2011  ...         CH Gayle                    M Chinnaswamy Stadium\n",
              "303    304    2011  ...         SK Raina                         Wankhede Stadium\n",
              "306    307    2011  ...          M Vijay          MA Chidambaram Stadium, Chepauk\n",
              "319    320    2012  ...     F du Plessis          MA Chidambaram Stadium, Chepauk\n",
              "395    396    2013  ...        RA Jadeja          MA Chidambaram Stadium, Chepauk\n",
              "451    452    2013  ...          V Kohli                    M Chinnaswamy Stadium\n",
              "498    499    2014  ...   AB de Villiers       JSCA International Stadium Complex\n",
              "509    510    2014  ...         MS Dhoni                    M Chinnaswamy Stadium\n",
              "537    538    2015  ...         SK Raina                    M Chinnaswamy Stadium\n",
              "553    554    2015  ...         SK Raina          MA Chidambaram Stadium, Chepauk\n",
              "574    575    2015  ...          A Nehra       JSCA International Stadium Complex\n",
              "659   7917    2018  ...         MS Dhoni                    M Chinnaswamy Stadium\n",
              "670   7928    2018  ...        RA Jadeja  Maharashtra Cricket Association Stadium\n",
              "696  11137    2019  ...  Harbhajan Singh                M. A. Chidambaram Stadium\n",
              "734  11330    2019  ...         PA Patel                   M. Chinnaswamy Stadium\n",
              "\n",
              "[23 rows x 15 columns]"
            ]
          },
          "metadata": {
            "tags": []
          },
          "execution_count": 33
        }
      ]
    },
    {
      "cell_type": "code",
      "metadata": {
        "colab": {
          "base_uri": "https://localhost:8080/",
          "height": 498
        },
        "id": "CTGgCq2UivTY",
        "outputId": "8134ea47-f11b-4cc5-c809-8d5eaf7be7a1"
      },
      "source": [
        "plt.title('RCB vs CSK')\r\n",
        "sns.countplot(x=rcb_csk['winner'],palette=['#FFFF48','#15244C'])\r\n",
        "plt.text(-0.1,9,s=rcb_csk['winner'].value_counts()['Chennai Super Kings'], color='white', size=40)\r\n",
        "plt.text(0.95,15,s=rcb_csk['winner'].value_counts()['Royal Challengers Bangalore'], color='white', size=40);"
      ],
      "execution_count": 34,
      "outputs": [
        {
          "output_type": "display_data",
          "data": {
            "image/png": "[encoded data removed]",
            "text/plain": [
              "<Figure size 1080x540 with 1 Axes>"
            ]
          },
          "metadata": {
            "tags": []
          }
        }
      ]
    },
    {
      "cell_type": "markdown",
      "metadata": {
        "id": "uocciY4haGJi"
      },
      "source": [
        "### Q4: Details of season winner and which team won most seasons? Also find the team which played most finals in IPL till 2019."
      ]
    },
    {
      "cell_type": "code",
      "metadata": {
        "colab": {
          "base_uri": "https://localhost:8080/",
          "height": 0
        },
        "id": "8ZiIfgfDaGJi",
        "outputId": "9d837ad1-94f7-4655-868b-cd2c376be3dd"
      },
      "source": [
        "#Creating a dataframe of final matches\r\n",
        "final_match_df = df.groupby('season').tail(1).sort_values('season').reset_index()\r\n",
        "final_match_df"
      ],
      "execution_count": 35,
      "outputs": [
        {
          "output_type": "execute_result",
          "data": {
            "text/html": [
              "<div>\n",
              "<style scoped>\n",
              "    .dataframe tbody tr th:only-of-type {\n",
              "        vertical-align: middle;\n",
              "    }\n",
              "\n",
              "    .dataframe tbody tr th {\n",
              "        vertical-align: top;\n",
              "    }\n",
              "\n",
              "    .dataframe thead th {\n",
              "        text-align: right;\n",
              "    }\n",
              "</style>\n",
              "<table border=\"1\" class=\"dataframe\">\n",
              "  <thead>\n",
              "    <tr style=\"text-align: right;\">\n",
              "      <th></th>\n",
              "      <th>index</th>\n",
              "      <th>id</th>\n",
              "      <th>season</th>\n",
              "      <th>city</th>\n",
              "      <th>date</th>\n",
              "      <th>team1</th>\n",
              "      <th>team2</th>\n",
              "      <th>toss_winner</th>\n",
              "      <th>toss_decision</th>\n",
              "      <th>result</th>\n",
              "      <th>dl_applied</th>\n",
              "      <th>winner</th>\n",
              "      <th>win_by_runs</th>\n",
              "      <th>win_by_wickets</th>\n",
              "      <th>player_of_match</th>\n",
              "      <th>venue</th>\n",
              "    </tr>\n",
              "  </thead>\n",
              "  <tbody>\n",
              "    <tr>\n",
              "      <th>0</th>\n",
              "      <td>116</td>\n",
              "      <td>117</td>\n",
              "      <td>2008</td>\n",
              "      <td>Mumbai</td>\n",
              "      <td>2008-06-01</td>\n",
              "      <td>Chennai Super Kings</td>\n",
              "      <td>Rajasthan Royals</td>\n",
              "      <td>Rajasthan Royals</td>\n",
              "      <td>field</td>\n",
              "      <td>normal</td>\n",
              "      <td>0</td>\n",
              "      <td>Rajasthan Royals</td>\n",
              "      <td>0</td>\n",
              "      <td>3</td>\n",
              "      <td>YK Pathan</td>\n",
              "      <td>Dr DY Patil Sports Academy</td>\n",
              "    </tr>\n",
              "    <tr>\n",
              "      <th>1</th>\n",
              "      <td>173</td>\n",
              "      <td>174</td>\n",
              "      <td>2009</td>\n",
              "      <td>Johannesburg</td>\n",
              "      <td>2009-05-24</td>\n",
              "      <td>Deccan Chargers</td>\n",
              "      <td>Royal Challengers Bangalore</td>\n",
              "      <td>Royal Challengers Bangalore</td>\n",
              "      <td>field</td>\n",
              "      <td>normal</td>\n",
              "      <td>0</td>\n",
              "      <td>Deccan Chargers</td>\n",
              "      <td>6</td>\n",
              "      <td>0</td>\n",
              "      <td>A Kumble</td>\n",
              "      <td>New Wanderers Stadium</td>\n",
              "    </tr>\n",
              "    <tr>\n",
              "      <th>2</th>\n",
              "      <td>233</td>\n",
              "      <td>234</td>\n",
              "      <td>2010</td>\n",
              "      <td>Mumbai</td>\n",
              "      <td>2010-04-25</td>\n",
              "      <td>Chennai Super Kings</td>\n",
              "      <td>Mumbai Indians</td>\n",
              "      <td>Chennai Super Kings</td>\n",
              "      <td>bat</td>\n",
              "      <td>normal</td>\n",
              "      <td>0</td>\n",
              "      <td>Chennai Super Kings</td>\n",
              "      <td>22</td>\n",
              "      <td>0</td>\n",
              "      <td>SK Raina</td>\n",
              "      <td>Dr DY Patil Sports Academy</td>\n",
              "    </tr>\n",
              "    <tr>\n",
              "      <th>3</th>\n",
              "      <td>306</td>\n",
              "      <td>307</td>\n",
              "      <td>2011</td>\n",
              "      <td>Chennai</td>\n",
              "      <td>2011-05-28</td>\n",
              "      <td>Chennai Super Kings</td>\n",
              "      <td>Royal Challengers Bangalore</td>\n",
              "      <td>Chennai Super Kings</td>\n",
              "      <td>bat</td>\n",
              "      <td>normal</td>\n",
              "      <td>0</td>\n",
              "      <td>Chennai Super Kings</td>\n",
              "      <td>58</td>\n",
              "      <td>0</td>\n",
              "      <td>M Vijay</td>\n",
              "      <td>MA Chidambaram Stadium, Chepauk</td>\n",
              "    </tr>\n",
              "    <tr>\n",
              "      <th>4</th>\n",
              "      <td>380</td>\n",
              "      <td>381</td>\n",
              "      <td>2012</td>\n",
              "      <td>Chennai</td>\n",
              "      <td>2012-05-27</td>\n",
              "      <td>Chennai Super Kings</td>\n",
              "      <td>Kolkata Knight Riders</td>\n",
              "      <td>Chennai Super Kings</td>\n",
              "      <td>bat</td>\n",
              "      <td>normal</td>\n",
              "      <td>0</td>\n",
              "      <td>Kolkata Knight Riders</td>\n",
              "      <td>0</td>\n",
              "      <td>5</td>\n",
              "      <td>MS Bisla</td>\n",
              "      <td>MA Chidambaram Stadium, Chepauk</td>\n",
              "    </tr>\n",
              "    <tr>\n",
              "      <th>5</th>\n",
              "      <td>456</td>\n",
              "      <td>457</td>\n",
              "      <td>2013</td>\n",
              "      <td>Kolkata</td>\n",
              "      <td>2013-05-26</td>\n",
              "      <td>Mumbai Indians</td>\n",
              "      <td>Chennai Super Kings</td>\n",
              "      <td>Mumbai Indians</td>\n",
              "      <td>bat</td>\n",
              "      <td>normal</td>\n",
              "      <td>0</td>\n",
              "      <td>Mumbai Indians</td>\n",
              "      <td>23</td>\n",
              "      <td>0</td>\n",
              "      <td>KA Pollard</td>\n",
              "      <td>Eden Gardens</td>\n",
              "    </tr>\n",
              "    <tr>\n",
              "      <th>6</th>\n",
              "      <td>516</td>\n",
              "      <td>517</td>\n",
              "      <td>2014</td>\n",
              "      <td>Bengaluru</td>\n",
              "      <td>2014-06-01</td>\n",
              "      <td>Kings XI Punjab</td>\n",
              "      <td>Kolkata Knight Riders</td>\n",
              "      <td>Kolkata Knight Riders</td>\n",
              "      <td>field</td>\n",
              "      <td>normal</td>\n",
              "      <td>0</td>\n",
              "      <td>Kolkata Knight Riders</td>\n",
              "      <td>0</td>\n",
              "      <td>3</td>\n",
              "      <td>MK Pandey</td>\n",
              "      <td>M Chinnaswamy Stadium</td>\n",
              "    </tr>\n",
              "    <tr>\n",
              "      <th>7</th>\n",
              "      <td>575</td>\n",
              "      <td>576</td>\n",
              "      <td>2015</td>\n",
              "      <td>Kolkata</td>\n",
              "      <td>2015-05-24</td>\n",
              "      <td>Mumbai Indians</td>\n",
              "      <td>Chennai Super Kings</td>\n",
              "      <td>Chennai Super Kings</td>\n",
              "      <td>field</td>\n",
              "      <td>normal</td>\n",
              "      <td>0</td>\n",
              "      <td>Mumbai Indians</td>\n",
              "      <td>41</td>\n",
              "      <td>0</td>\n",
              "      <td>RG Sharma</td>\n",
              "      <td>Eden Gardens</td>\n",
              "    </tr>\n",
              "    <tr>\n",
              "      <th>8</th>\n",
              "      <td>635</td>\n",
              "      <td>636</td>\n",
              "      <td>2016</td>\n",
              "      <td>Bengaluru</td>\n",
              "      <td>2016-05-29</td>\n",
              "      <td>Sunrisers Hyderabad</td>\n",
              "      <td>Royal Challengers Bangalore</td>\n",
              "      <td>Sunrisers Hyderabad</td>\n",
              "      <td>bat</td>\n",
              "      <td>normal</td>\n",
              "      <td>0</td>\n",
              "      <td>Sunrisers Hyderabad</td>\n",
              "      <td>8</td>\n",
              "      <td>0</td>\n",
              "      <td>BCJ Cutting</td>\n",
              "      <td>M Chinnaswamy Stadium</td>\n",
              "    </tr>\n",
              "    <tr>\n",
              "      <th>9</th>\n",
              "      <td>58</td>\n",
              "      <td>59</td>\n",
              "      <td>2017</td>\n",
              "      <td>Hyderabad</td>\n",
              "      <td>2017-05-21</td>\n",
              "      <td>Mumbai Indians</td>\n",
              "      <td>Rising Pune Supergiant</td>\n",
              "      <td>Mumbai Indians</td>\n",
              "      <td>bat</td>\n",
              "      <td>normal</td>\n",
              "      <td>0</td>\n",
              "      <td>Mumbai Indians</td>\n",
              "      <td>1</td>\n",
              "      <td>0</td>\n",
              "      <td>KH Pandya</td>\n",
              "      <td>Rajiv Gandhi International Stadium, Uppal</td>\n",
              "    </tr>\n",
              "    <tr>\n",
              "      <th>10</th>\n",
              "      <td>695</td>\n",
              "      <td>7953</td>\n",
              "      <td>2018</td>\n",
              "      <td>Mumbai</td>\n",
              "      <td>27/05/18</td>\n",
              "      <td>Sunrisers Hyderabad</td>\n",
              "      <td>Chennai Super Kings</td>\n",
              "      <td>Chennai Super Kings</td>\n",
              "      <td>field</td>\n",
              "      <td>normal</td>\n",
              "      <td>0</td>\n",
              "      <td>Chennai Super Kings</td>\n",
              "      <td>0</td>\n",
              "      <td>8</td>\n",
              "      <td>SR Watson</td>\n",
              "      <td>Wankhede Stadium</td>\n",
              "    </tr>\n",
              "    <tr>\n",
              "      <th>11</th>\n",
              "      <td>755</td>\n",
              "      <td>11415</td>\n",
              "      <td>2019</td>\n",
              "      <td>Hyderabad</td>\n",
              "      <td>12/05/19</td>\n",
              "      <td>Mumbai Indians</td>\n",
              "      <td>Chennai Super Kings</td>\n",
              "      <td>Mumbai Indians</td>\n",
              "      <td>bat</td>\n",
              "      <td>normal</td>\n",
              "      <td>0</td>\n",
              "      <td>Mumbai Indians</td>\n",
              "      <td>1</td>\n",
              "      <td>0</td>\n",
              "      <td>JJ Bumrah</td>\n",
              "      <td>Rajiv Gandhi Intl. Cricket Stadium</td>\n",
              "    </tr>\n",
              "  </tbody>\n",
              "</table>\n",
              "</div>"
            ],
            "text/plain": [
              "    index     id  ...  player_of_match                                      venue\n",
              "0     116    117  ...        YK Pathan                 Dr DY Patil Sports Academy\n",
              "1     173    174  ...         A Kumble                      New Wanderers Stadium\n",
              "2     233    234  ...         SK Raina                 Dr DY Patil Sports Academy\n",
              "3     306    307  ...          M Vijay            MA Chidambaram Stadium, Chepauk\n",
              "4     380    381  ...         MS Bisla            MA Chidambaram Stadium, Chepauk\n",
              "5     456    457  ...       KA Pollard                               Eden Gardens\n",
              "6     516    517  ...        MK Pandey                      M Chinnaswamy Stadium\n",
              "7     575    576  ...        RG Sharma                               Eden Gardens\n",
              "8     635    636  ...      BCJ Cutting                      M Chinnaswamy Stadium\n",
              "9      58     59  ...        KH Pandya  Rajiv Gandhi International Stadium, Uppal\n",
              "10    695   7953  ...        SR Watson                           Wankhede Stadium\n",
              "11    755  11415  ...        JJ Bumrah         Rajiv Gandhi Intl. Cricket Stadium\n",
              "\n",
              "[12 rows x 16 columns]"
            ]
          },
          "metadata": {
            "tags": []
          },
          "execution_count": 35
        }
      ]
    },
    {
      "cell_type": "code",
      "metadata": {
        "colab": {
          "base_uri": "https://localhost:8080/"
        },
        "id": "NklqWh82aGJi",
        "outputId": "12bb99bd-6da0-4db5-b3b8-16737d8358f5"
      },
      "source": [
        "final_match_df['winner'].value_counts()"
      ],
      "execution_count": 36,
      "outputs": [
        {
          "output_type": "execute_result",
          "data": {
            "text/plain": [
              "Mumbai Indians           4\n",
              "Chennai Super Kings      3\n",
              "Kolkata Knight Riders    2\n",
              "Deccan Chargers          1\n",
              "Sunrisers Hyderabad      1\n",
              "Rajasthan Royals         1\n",
              "Name: winner, dtype: int64"
            ]
          },
          "metadata": {
            "tags": []
          },
          "execution_count": 36
        }
      ]
    },
    {
      "cell_type": "code",
      "metadata": {
        "colab": {
          "base_uri": "https://localhost:8080/",
          "height": 0
        },
        "id": "1ImTqhT2jWs7",
        "outputId": "194f9a08-5785-4f2e-ca1b-f71e921a7380"
      },
      "source": [
        "plt.title('Count of Season Winners',fontweight=800)\r\n",
        "sns.countplot(x=final_match_df['winner'],palette=['#ECC5F2','#1C2C46','#FFFF48','#F0E1A1','#15244C','#D4480B']);"
      ],
      "execution_count": 37,
      "outputs": [
        {
          "output_type": "display_data",
          "data": {
            "image/png": "[encoded data removed]",
            "text/plain": [
              "<Figure size 1080x540 with 1 Axes>"
            ]
          },
          "metadata": {
            "tags": []
          }
        }
      ]
    },
    {
      "cell_type": "code",
      "metadata": {
        "id": "rYxor1uijd0M"
      },
      "source": [
        "final_match_team = pd.concat([final_match_df['team1'],final_match_df['team2']])"
      ],
      "execution_count": 38,
      "outputs": []
    },
    {
      "cell_type": "code",
      "metadata": {
        "colab": {
          "base_uri": "https://localhost:8080/"
        },
        "id": "D1QwNV1ZjdxZ",
        "outputId": "59b1c3d5-64b1-4724-9d9f-b92cfe333d2a"
      },
      "source": [
        "final_match_team.value_counts()"
      ],
      "execution_count": 39,
      "outputs": [
        {
          "output_type": "execute_result",
          "data": {
            "text/plain": [
              "Chennai Super Kings            8\n",
              "Mumbai Indians                 5\n",
              "Royal Challengers Bangalore    3\n",
              "Sunrisers Hyderabad            2\n",
              "Kolkata Knight Riders          2\n",
              "Deccan Chargers                1\n",
              "Rising Pune Supergiant         1\n",
              "Rajasthan Royals               1\n",
              "Kings XI Punjab                1\n",
              "dtype: int64"
            ]
          },
          "metadata": {
            "tags": []
          },
          "execution_count": 39
        }
      ]
    },
    {
      "cell_type": "code",
      "metadata": {
        "colab": {
          "base_uri": "https://localhost:8080/",
          "height": 0
        },
        "id": "eV3qVIqDjduJ",
        "outputId": "4c4dfe31-95e7-43c6-a02a-52a3d888d80e"
      },
      "source": [
        "plt.title('Count of Finalists in IPL',fontweight=800)\r\n",
        "plt.xlabel('Teams')\r\n",
        "sns.countplot(x=final_match_team,palette=['#FFFF48','#1C2C46','#15244C','#CD202D','#D4480B','#ECC5F2','#EF2920','#F0E1A1','#E776CA'])\r\n",
        "plt.ylabel('Final Matches Played')\r\n",
        "plt.xticks(rotation=90);"
      ],
      "execution_count": 40,
      "outputs": [
        {
          "output_type": "display_data",
          "data": {
            "image/png": "[encoded data removed]",
            "text/plain": [
              "<Figure size 1080x540 with 1 Axes>"
            ]
          },
          "metadata": {
            "tags": []
          }
        }
      ]
    },
    {
      "cell_type": "markdown",
      "metadata": {
        "id": "fyq1lsvuaGJj"
      },
      "source": [
        "### Q5: Who are the top 10 players with most number of Man of the Match ?"
      ]
    },
    {
      "cell_type": "code",
      "metadata": {
        "colab": {
          "base_uri": "https://localhost:8080/",
          "height": 0
        },
        "id": "9LfBGflEaGJj",
        "outputId": "d2268ed4-22f8-46f2-9922-3cff72b9bd98"
      },
      "source": [
        "mom_count =df.groupby('player_of_match')[['id']].count()\r\n",
        "mom_count = mom_count.sort_values('id',ascending=False).head(10)\r\n",
        "mom_count"
      ],
      "execution_count": 41,
      "outputs": [
        {
          "output_type": "execute_result",
          "data": {
            "text/html": [
              "<div>\n",
              "<style scoped>\n",
              "    .dataframe tbody tr th:only-of-type {\n",
              "        vertical-align: middle;\n",
              "    }\n",
              "\n",
              "    .dataframe tbody tr th {\n",
              "        vertical-align: top;\n",
              "    }\n",
              "\n",
              "    .dataframe thead th {\n",
              "        text-align: right;\n",
              "    }\n",
              "</style>\n",
              "<table border=\"1\" class=\"dataframe\">\n",
              "  <thead>\n",
              "    <tr style=\"text-align: right;\">\n",
              "      <th></th>\n",
              "      <th>id</th>\n",
              "    </tr>\n",
              "    <tr>\n",
              "      <th>player_of_match</th>\n",
              "      <th></th>\n",
              "    </tr>\n",
              "  </thead>\n",
              "  <tbody>\n",
              "    <tr>\n",
              "      <th>CH Gayle</th>\n",
              "      <td>21</td>\n",
              "    </tr>\n",
              "    <tr>\n",
              "      <th>AB de Villiers</th>\n",
              "      <td>20</td>\n",
              "    </tr>\n",
              "    <tr>\n",
              "      <th>MS Dhoni</th>\n",
              "      <td>17</td>\n",
              "    </tr>\n",
              "    <tr>\n",
              "      <th>DA Warner</th>\n",
              "      <td>17</td>\n",
              "    </tr>\n",
              "    <tr>\n",
              "      <th>RG Sharma</th>\n",
              "      <td>17</td>\n",
              "    </tr>\n",
              "    <tr>\n",
              "      <th>YK Pathan</th>\n",
              "      <td>16</td>\n",
              "    </tr>\n",
              "    <tr>\n",
              "      <th>SR Watson</th>\n",
              "      <td>15</td>\n",
              "    </tr>\n",
              "    <tr>\n",
              "      <th>SK Raina</th>\n",
              "      <td>14</td>\n",
              "    </tr>\n",
              "    <tr>\n",
              "      <th>G Gambhir</th>\n",
              "      <td>13</td>\n",
              "    </tr>\n",
              "    <tr>\n",
              "      <th>MEK Hussey</th>\n",
              "      <td>12</td>\n",
              "    </tr>\n",
              "  </tbody>\n",
              "</table>\n",
              "</div>"
            ],
            "text/plain": [
              "                 id\n",
              "player_of_match    \n",
              "CH Gayle         21\n",
              "AB de Villiers   20\n",
              "MS Dhoni         17\n",
              "DA Warner        17\n",
              "RG Sharma        17\n",
              "YK Pathan        16\n",
              "SR Watson        15\n",
              "SK Raina         14\n",
              "G Gambhir        13\n",
              "MEK Hussey       12"
            ]
          },
          "metadata": {
            "tags": []
          },
          "execution_count": 41
        }
      ]
    },
    {
      "cell_type": "code",
      "metadata": {
        "colab": {
          "base_uri": "https://localhost:8080/",
          "height": 0
        },
        "id": "_yVfh41paGJj",
        "outputId": "1124887a-500f-424f-f008-3207da56fdf2"
      },
      "source": [
        "plt.title(\"Top 10 Player with Most Man of the Match Awards\",fontweight=800 )\r\n",
        "sns.barplot(x=mom_count.index,y=mom_count.id, alpha=0.6);\r\n",
        "plt.xticks(rotation=90)\r\n",
        "plt.yticks(ticks=np.arange(0,25,5))\r\n",
        "plt.ylabel('No. of Awards')\r\n",
        "plt.xlabel('Players');"
      ],
      "execution_count": 42,
      "outputs": [
        {
          "output_type": "display_data",
          "data": {
            "image/png": "[encoded data removed]",
            "text/plain": [
              "<Figure size 1080x540 with 1 Axes>"
            ]
          },
          "metadata": {
            "tags": []
          }
        }
      ]
    },
    {
      "cell_type": "markdown",
      "metadata": {
        "id": "2SW7hTyPj7Ur"
      },
      "source": [
        "###Q6. Why number of matches are greater in 2011,2012 and 2013 ?"
      ]
    },
    {
      "cell_type": "markdown",
      "metadata": {
        "id": "h4XfqvvdaGJk"
      },
      "source": [
        "This might be due to more teams in these years as compared to other years. Thus we have to find the number of teams played in each season\r\n",
        "\r\n"
      ]
    },
    {
      "cell_type": "code",
      "metadata": {
        "colab": {
          "base_uri": "https://localhost:8080/",
          "height": 0
        },
        "id": "53kObb-2kCkK",
        "outputId": "8af6af0b-9df0-4946-e2ba-300e978fd5ba"
      },
      "source": [
        "team_count=[];\r\n",
        "for i in range(2008,2020):\r\n",
        "    team_count.append(df[df.season == i].team1.unique().shape[0])\r\n",
        "\r\n",
        "sns.barplot(x=np.arange(2008,2020),y=team_count)\r\n",
        "plt.title('Number of teams in each season', fontweight=800)\r\n",
        "plt.xlabel('Seasons')\r\n",
        "plt.ylabel('No. of teams')\r\n",
        "plt.yticks(np.arange(0,11));"
      ],
      "execution_count": 43,
      "outputs": [
        {
          "output_type": "display_data",
          "data": {
            "image/png": "[encoded data removed]",
            "text/plain": [
              "<Figure size 1080x540 with 1 Axes>"
            ]
          },
          "metadata": {
            "tags": []
          }
        }
      ]
    },
    {
      "cell_type": "markdown",
      "metadata": {
        "id": "EtwFiigXkJna"
      },
      "source": [
        "The number of teams in 2011,2013 and 2013 are 10,9 and 9 respectively which is greater than number of teams in other seasons which is 8.\r\n",
        "\r\n"
      ]
    },
    {
      "cell_type": "markdown",
      "metadata": {
        "id": "gDN_0XfJaGJl"
      },
      "source": [
        "## Inferences and Conclusion\n",
        "\n",
        "The above analysis on matches.csv can be summarised as below:\n",
        "\n",
        "1. The teams in 2011,2012 and 2013 are greater than other seasons due to which matches played in those seasons are greater.\n",
        "2. Even though Mumbai Indians have greater number of wins but winning percentage of Chennai Super King is higher than Mumbai Indians. But it may also be noted that when comparing the head to head matches between Mumbai Indians and Chennai Super King, Mumbai Indians have won most matches.\n",
        "3. Chris Gayle has received highest number of Man of the Match Awards.\n",
        "Chennai Super King entered into final matches of the IPL most of the times.\n",
        "4. Out of 756 matches played in IPL till 2019\n",
        "5. In 350 matches the toss winner wins the match\n",
        "6. In 350 matches the team batting first wins the match It excludes cases where winner is decided by Super Over.\n",
        "7. Mumbai has hosted most number of matches in the IPL"
      ]
    },
    {
      "cell_type": "markdown",
      "metadata": {
        "id": "xGkCkF48knhv"
      },
      "source": [
        "##Future Work\r\n",
        "The dataset for IPL(2008-2019) consisted two .csv files i.e matches.csv and deliveries.csv. Only matches.csv is considered in this project for the analysis. For data related to scores, runs by individuals, wickets etc can be retrieved from deliveries.csv. Moreover matches.csv and deliveries.csv can be merged with respect to their match id and interesting data can be explored from the merged data."
      ]
    }
  ]
}